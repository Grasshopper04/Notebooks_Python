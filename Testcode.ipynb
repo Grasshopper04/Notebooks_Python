{
 "cells": [
  {
   "cell_type": "code",
   "execution_count": 3,
   "metadata": {},
   "outputs": [],
   "source": [
    "import pandas as pd"
   ]
  },
  {
   "cell_type": "code",
   "execution_count": 1,
   "metadata": {},
   "outputs": [],
   "source": [
    "import numpy as np\n",
    "import matplotlib as plt\n",
    "from matplotlib import pyplot"
   ]
  },
  {
   "cell_type": "code",
   "execution_count": 5,
   "metadata": {},
   "outputs": [],
   "source": [
    "df1 = pd.read_csv('C:\\\\Users\\\\richardpears\\\\Desktop\\\\python\\\\pepperinvoicemaster.csv')\n"
   ]
  },
  {
   "cell_type": "code",
   "execution_count": 6,
   "metadata": {},
   "outputs": [
    {
     "data": {
      "text/html": [
       "<div>\n",
       "<style scoped>\n",
       "    .dataframe tbody tr th:only-of-type {\n",
       "        vertical-align: middle;\n",
       "    }\n",
       "\n",
       "    .dataframe tbody tr th {\n",
       "        vertical-align: top;\n",
       "    }\n",
       "\n",
       "    .dataframe thead th {\n",
       "        text-align: right;\n",
       "    }\n",
       "</style>\n",
       "<table border=\"1\" class=\"dataframe\">\n",
       "  <thead>\n",
       "    <tr style=\"text-align: right;\">\n",
       "      <th></th>\n",
       "      <th>InvoiceMasterID</th>\n",
       "      <th>InvoiceID</th>\n",
       "      <th>AgencyID</th>\n",
       "      <th>CMSProviderID</th>\n",
       "      <th>BranchID</th>\n",
       "      <th>PatientIntakeID</th>\n",
       "      <th>BillFrequency</th>\n",
       "      <th>Billtype</th>\n",
       "      <th>BilledAmount</th>\n",
       "      <th>PaidAmount</th>\n",
       "      <th>...</th>\n",
       "      <th>BpFyEndDate</th>\n",
       "      <th>EpisodeStartDate</th>\n",
       "      <th>EpisodeEndDate</th>\n",
       "      <th>IsNewRelection</th>\n",
       "      <th>PreviousBillEndDate</th>\n",
       "      <th>PatientUniqueID</th>\n",
       "      <th>Occ_27Date</th>\n",
       "      <th>Occ_42Date</th>\n",
       "      <th>EpisodeNo</th>\n",
       "      <th>PepperCount</th>\n",
       "    </tr>\n",
       "  </thead>\n",
       "  <tbody>\n",
       "    <tr>\n",
       "      <th>count</th>\n",
       "      <td>4933.000000</td>\n",
       "      <td>4933.000000</td>\n",
       "      <td>4933.0</td>\n",
       "      <td>4933.000000</td>\n",
       "      <td>4933.000000</td>\n",
       "      <td>4933.000000</td>\n",
       "      <td>4933.000000</td>\n",
       "      <td>4933.000000</td>\n",
       "      <td>4933.000000</td>\n",
       "      <td>4933.000000</td>\n",
       "      <td>...</td>\n",
       "      <td>0.0</td>\n",
       "      <td>0.0</td>\n",
       "      <td>0.0</td>\n",
       "      <td>0.0</td>\n",
       "      <td>0.0</td>\n",
       "      <td>4933.000000</td>\n",
       "      <td>0.0</td>\n",
       "      <td>0.0</td>\n",
       "      <td>0.0</td>\n",
       "      <td>4933.0</td>\n",
       "    </tr>\n",
       "    <tr>\n",
       "      <th>mean</th>\n",
       "      <td>2467.000000</td>\n",
       "      <td>20939.062437</td>\n",
       "      <td>25.0</td>\n",
       "      <td>173404.931887</td>\n",
       "      <td>68.868437</td>\n",
       "      <td>3667.679303</td>\n",
       "      <td>1.000811</td>\n",
       "      <td>812.864991</td>\n",
       "      <td>6115.282155</td>\n",
       "      <td>3926.733957</td>\n",
       "      <td>...</td>\n",
       "      <td>NaN</td>\n",
       "      <td>NaN</td>\n",
       "      <td>NaN</td>\n",
       "      <td>NaN</td>\n",
       "      <td>NaN</td>\n",
       "      <td>3528.789378</td>\n",
       "      <td>NaN</td>\n",
       "      <td>NaN</td>\n",
       "      <td>NaN</td>\n",
       "      <td>0.0</td>\n",
       "    </tr>\n",
       "    <tr>\n",
       "      <th>std</th>\n",
       "      <td>1424.178769</td>\n",
       "      <td>6608.285541</td>\n",
       "      <td>0.0</td>\n",
       "      <td>93350.117487</td>\n",
       "      <td>2.276846</td>\n",
       "      <td>1934.373795</td>\n",
       "      <td>0.028467</td>\n",
       "      <td>0.720188</td>\n",
       "      <td>2302.415114</td>\n",
       "      <td>1528.283699</td>\n",
       "      <td>...</td>\n",
       "      <td>NaN</td>\n",
       "      <td>NaN</td>\n",
       "      <td>NaN</td>\n",
       "      <td>NaN</td>\n",
       "      <td>NaN</td>\n",
       "      <td>1876.550627</td>\n",
       "      <td>NaN</td>\n",
       "      <td>NaN</td>\n",
       "      <td>NaN</td>\n",
       "      <td>0.0</td>\n",
       "    </tr>\n",
       "    <tr>\n",
       "      <th>min</th>\n",
       "      <td>1.000000</td>\n",
       "      <td>6113.000000</td>\n",
       "      <td>25.0</td>\n",
       "      <td>131545.000000</td>\n",
       "      <td>66.000000</td>\n",
       "      <td>1514.000000</td>\n",
       "      <td>1.000000</td>\n",
       "      <td>811.000000</td>\n",
       "      <td>150.880000</td>\n",
       "      <td>28.030000</td>\n",
       "      <td>...</td>\n",
       "      <td>NaN</td>\n",
       "      <td>NaN</td>\n",
       "      <td>NaN</td>\n",
       "      <td>NaN</td>\n",
       "      <td>NaN</td>\n",
       "      <td>1463.000000</td>\n",
       "      <td>NaN</td>\n",
       "      <td>NaN</td>\n",
       "      <td>NaN</td>\n",
       "      <td>0.0</td>\n",
       "    </tr>\n",
       "    <tr>\n",
       "      <th>25%</th>\n",
       "      <td>1234.000000</td>\n",
       "      <td>15384.000000</td>\n",
       "      <td>25.0</td>\n",
       "      <td>131545.000000</td>\n",
       "      <td>67.000000</td>\n",
       "      <td>1724.000000</td>\n",
       "      <td>1.000000</td>\n",
       "      <td>813.000000</td>\n",
       "      <td>5308.840000</td>\n",
       "      <td>3458.800000</td>\n",
       "      <td>...</td>\n",
       "      <td>NaN</td>\n",
       "      <td>NaN</td>\n",
       "      <td>NaN</td>\n",
       "      <td>NaN</td>\n",
       "      <td>NaN</td>\n",
       "      <td>1668.000000</td>\n",
       "      <td>NaN</td>\n",
       "      <td>NaN</td>\n",
       "      <td>NaN</td>\n",
       "      <td>0.0</td>\n",
       "    </tr>\n",
       "    <tr>\n",
       "      <th>50%</th>\n",
       "      <td>2467.000000</td>\n",
       "      <td>22415.000000</td>\n",
       "      <td>25.0</td>\n",
       "      <td>131545.000000</td>\n",
       "      <td>69.000000</td>\n",
       "      <td>3441.000000</td>\n",
       "      <td>1.000000</td>\n",
       "      <td>813.000000</td>\n",
       "      <td>6661.700000</td>\n",
       "      <td>4330.430000</td>\n",
       "      <td>...</td>\n",
       "      <td>NaN</td>\n",
       "      <td>NaN</td>\n",
       "      <td>NaN</td>\n",
       "      <td>NaN</td>\n",
       "      <td>NaN</td>\n",
       "      <td>3321.000000</td>\n",
       "      <td>NaN</td>\n",
       "      <td>NaN</td>\n",
       "      <td>NaN</td>\n",
       "      <td>0.0</td>\n",
       "    </tr>\n",
       "    <tr>\n",
       "      <th>75%</th>\n",
       "      <td>3700.000000</td>\n",
       "      <td>26619.000000</td>\n",
       "      <td>25.0</td>\n",
       "      <td>131545.000000</td>\n",
       "      <td>71.000000</td>\n",
       "      <td>5396.000000</td>\n",
       "      <td>1.000000</td>\n",
       "      <td>813.000000</td>\n",
       "      <td>7566.670000</td>\n",
       "      <td>4757.540000</td>\n",
       "      <td>...</td>\n",
       "      <td>NaN</td>\n",
       "      <td>NaN</td>\n",
       "      <td>NaN</td>\n",
       "      <td>NaN</td>\n",
       "      <td>NaN</td>\n",
       "      <td>5197.000000</td>\n",
       "      <td>NaN</td>\n",
       "      <td>NaN</td>\n",
       "      <td>NaN</td>\n",
       "      <td>0.0</td>\n",
       "    </tr>\n",
       "    <tr>\n",
       "      <th>max</th>\n",
       "      <td>4933.000000</td>\n",
       "      <td>30570.000000</td>\n",
       "      <td>25.0</td>\n",
       "      <td>381539.000000</td>\n",
       "      <td>73.000000</td>\n",
       "      <td>7671.000000</td>\n",
       "      <td>2.000000</td>\n",
       "      <td>814.000000</td>\n",
       "      <td>15501.490000</td>\n",
       "      <td>6930.730000</td>\n",
       "      <td>...</td>\n",
       "      <td>NaN</td>\n",
       "      <td>NaN</td>\n",
       "      <td>NaN</td>\n",
       "      <td>NaN</td>\n",
       "      <td>NaN</td>\n",
       "      <td>7414.000000</td>\n",
       "      <td>NaN</td>\n",
       "      <td>NaN</td>\n",
       "      <td>NaN</td>\n",
       "      <td>0.0</td>\n",
       "    </tr>\n",
       "  </tbody>\n",
       "</table>\n",
       "<p>8 rows × 41 columns</p>\n",
       "</div>"
      ],
      "text/plain": [
       "       InvoiceMasterID     InvoiceID  AgencyID  CMSProviderID     BranchID  \\\n",
       "count      4933.000000   4933.000000    4933.0    4933.000000  4933.000000   \n",
       "mean       2467.000000  20939.062437      25.0  173404.931887    68.868437   \n",
       "std        1424.178769   6608.285541       0.0   93350.117487     2.276846   \n",
       "min           1.000000   6113.000000      25.0  131545.000000    66.000000   \n",
       "25%        1234.000000  15384.000000      25.0  131545.000000    67.000000   \n",
       "50%        2467.000000  22415.000000      25.0  131545.000000    69.000000   \n",
       "75%        3700.000000  26619.000000      25.0  131545.000000    71.000000   \n",
       "max        4933.000000  30570.000000      25.0  381539.000000    73.000000   \n",
       "\n",
       "       PatientIntakeID  BillFrequency     Billtype  BilledAmount   PaidAmount  \\\n",
       "count      4933.000000    4933.000000  4933.000000   4933.000000  4933.000000   \n",
       "mean       3667.679303       1.000811   812.864991   6115.282155  3926.733957   \n",
       "std        1934.373795       0.028467     0.720188   2302.415114  1528.283699   \n",
       "min        1514.000000       1.000000   811.000000    150.880000    28.030000   \n",
       "25%        1724.000000       1.000000   813.000000   5308.840000  3458.800000   \n",
       "50%        3441.000000       1.000000   813.000000   6661.700000  4330.430000   \n",
       "75%        5396.000000       1.000000   813.000000   7566.670000  4757.540000   \n",
       "max        7671.000000       2.000000   814.000000  15501.490000  6930.730000   \n",
       "\n",
       "          ...       BpFyEndDate  EpisodeStartDate  EpisodeEndDate  \\\n",
       "count     ...               0.0               0.0             0.0   \n",
       "mean      ...               NaN               NaN             NaN   \n",
       "std       ...               NaN               NaN             NaN   \n",
       "min       ...               NaN               NaN             NaN   \n",
       "25%       ...               NaN               NaN             NaN   \n",
       "50%       ...               NaN               NaN             NaN   \n",
       "75%       ...               NaN               NaN             NaN   \n",
       "max       ...               NaN               NaN             NaN   \n",
       "\n",
       "       IsNewRelection  PreviousBillEndDate  PatientUniqueID  Occ_27Date  \\\n",
       "count             0.0                  0.0      4933.000000         0.0   \n",
       "mean              NaN                  NaN      3528.789378         NaN   \n",
       "std               NaN                  NaN      1876.550627         NaN   \n",
       "min               NaN                  NaN      1463.000000         NaN   \n",
       "25%               NaN                  NaN      1668.000000         NaN   \n",
       "50%               NaN                  NaN      3321.000000         NaN   \n",
       "75%               NaN                  NaN      5197.000000         NaN   \n",
       "max               NaN                  NaN      7414.000000         NaN   \n",
       "\n",
       "       Occ_42Date  EpisodeNo  PepperCount  \n",
       "count         0.0        0.0       4933.0  \n",
       "mean          NaN        NaN          0.0  \n",
       "std           NaN        NaN          0.0  \n",
       "min           NaN        NaN          0.0  \n",
       "25%           NaN        NaN          0.0  \n",
       "50%           NaN        NaN          0.0  \n",
       "75%           NaN        NaN          0.0  \n",
       "max           NaN        NaN          0.0  \n",
       "\n",
       "[8 rows x 41 columns]"
      ]
     },
     "execution_count": 6,
     "metadata": {},
     "output_type": "execute_result"
    }
   ],
   "source": [
    "df1.describe()"
   ]
  },
  {
   "cell_type": "code",
   "execution_count": 7,
   "metadata": {},
   "outputs": [],
   "source": [
    "x = np.arange(30).reshape(5,6)"
   ]
  },
  {
   "cell_type": "code",
   "execution_count": 8,
   "metadata": {},
   "outputs": [
    {
     "data": {
      "text/plain": [
       "array([[ 0,  1,  2,  3,  4,  5],\n",
       "       [ 6,  7,  8,  9, 10, 11],\n",
       "       [12, 13, 14, 15, 16, 17],\n",
       "       [18, 19, 20, 21, 22, 23],\n",
       "       [24, 25, 26, 27, 28, 29]])"
      ]
     },
     "execution_count": 8,
     "metadata": {},
     "output_type": "execute_result"
    }
   ],
   "source": [
    "x"
   ]
  },
  {
   "cell_type": "code",
   "execution_count": 9,
   "metadata": {},
   "outputs": [
    {
     "data": {
      "text/plain": [
       "2"
      ]
     },
     "execution_count": 9,
     "metadata": {},
     "output_type": "execute_result"
    }
   ],
   "source": [
    "x.ndim"
   ]
  },
  {
   "cell_type": "code",
   "execution_count": 10,
   "metadata": {},
   "outputs": [
    {
     "data": {
      "text/plain": [
       "30"
      ]
     },
     "execution_count": 10,
     "metadata": {},
     "output_type": "execute_result"
    }
   ],
   "source": [
    "x.size"
   ]
  },
  {
   "cell_type": "code",
   "execution_count": 11,
   "metadata": {},
   "outputs": [
    {
     "data": {
      "text/plain": [
       "310779"
      ]
     },
     "execution_count": 11,
     "metadata": {},
     "output_type": "execute_result"
    }
   ],
   "source": [
    "df1.size"
   ]
  },
  {
   "cell_type": "code",
   "execution_count": 12,
   "metadata": {},
   "outputs": [
    {
     "data": {
      "text/plain": [
       "(4933, 63)"
      ]
     },
     "execution_count": 12,
     "metadata": {},
     "output_type": "execute_result"
    }
   ],
   "source": [
    "df1.shape"
   ]
  },
  {
   "cell_type": "code",
   "execution_count": 13,
   "metadata": {},
   "outputs": [
    {
     "data": {
      "text/plain": [
       "63"
      ]
     },
     "execution_count": 13,
     "metadata": {},
     "output_type": "execute_result"
    }
   ],
   "source": [
    "26+26+11"
   ]
  },
  {
   "cell_type": "code",
   "execution_count": 14,
   "metadata": {},
   "outputs": [
    {
     "data": {
      "text/plain": [
       "numpy.ndarray"
      ]
     },
     "execution_count": 14,
     "metadata": {},
     "output_type": "execute_result"
    }
   ],
   "source": [
    "type(x)"
   ]
  },
  {
   "cell_type": "code",
   "execution_count": 15,
   "metadata": {},
   "outputs": [],
   "source": [
    "y=np.array([1.1,2,3])"
   ]
  },
  {
   "cell_type": "code",
   "execution_count": 16,
   "metadata": {},
   "outputs": [
    {
     "data": {
      "text/plain": [
       "array([1.1, 2. , 3. ])"
      ]
     },
     "execution_count": 16,
     "metadata": {},
     "output_type": "execute_result"
    }
   ],
   "source": [
    "y"
   ]
  },
  {
   "cell_type": "code",
   "execution_count": 17,
   "metadata": {},
   "outputs": [
    {
     "data": {
      "text/plain": [
       "dtype('float64')"
      ]
     },
     "execution_count": 17,
     "metadata": {},
     "output_type": "execute_result"
    }
   ],
   "source": [
    "y.dtype"
   ]
  },
  {
   "cell_type": "code",
   "execution_count": 18,
   "metadata": {},
   "outputs": [],
   "source": [
    "s =np.array([[2,4],[3,4]])"
   ]
  },
  {
   "cell_type": "code",
   "execution_count": 19,
   "metadata": {},
   "outputs": [
    {
     "data": {
      "text/plain": [
       "array([[2, 4],\n",
       "       [3, 4]])"
      ]
     },
     "execution_count": 19,
     "metadata": {},
     "output_type": "execute_result"
    }
   ],
   "source": [
    "s"
   ]
  },
  {
   "cell_type": "code",
   "execution_count": 20,
   "metadata": {},
   "outputs": [],
   "source": [
    "s =np.array([[2,4],[3,4]],dtype=complex)"
   ]
  },
  {
   "cell_type": "code",
   "execution_count": 21,
   "metadata": {},
   "outputs": [
    {
     "data": {
      "text/plain": [
       "array([[2.+0.j, 4.+0.j],\n",
       "       [3.+0.j, 4.+0.j]])"
      ]
     },
     "execution_count": 21,
     "metadata": {},
     "output_type": "execute_result"
    }
   ],
   "source": [
    "s"
   ]
  },
  {
   "cell_type": "code",
   "execution_count": 22,
   "metadata": {},
   "outputs": [
    {
     "data": {
      "text/plain": [
       "array([[0., 0.],\n",
       "       [0., 0.]])"
      ]
     },
     "execution_count": 22,
     "metadata": {},
     "output_type": "execute_result"
    }
   ],
   "source": [
    "np.empty((2,2))"
   ]
  },
  {
   "cell_type": "code",
   "execution_count": 23,
   "metadata": {},
   "outputs": [],
   "source": [
    "from numpy import pi"
   ]
  },
  {
   "cell_type": "code",
   "execution_count": 24,
   "metadata": {},
   "outputs": [
    {
     "data": {
      "text/plain": [
       "array([0.   , 0.375, 0.75 , 1.125, 1.5  , 1.875, 2.25 , 2.625, 3.   ])"
      ]
     },
     "execution_count": 24,
     "metadata": {},
     "output_type": "execute_result"
    }
   ],
   "source": [
    "np.linspace(0,3,9)"
   ]
  },
  {
   "cell_type": "code",
   "execution_count": 25,
   "metadata": {},
   "outputs": [],
   "source": [
    "z = np.linspace(0,3*pi,30)"
   ]
  },
  {
   "cell_type": "code",
   "execution_count": 26,
   "metadata": {},
   "outputs": [],
   "source": [
    "v=np.sin(z)"
   ]
  },
  {
   "cell_type": "code",
   "execution_count": 27,
   "metadata": {},
   "outputs": [
    {
     "data": {
      "text/plain": [
       "array([ 0.00000000e+00,  3.19301530e-01,  6.05174215e-01,  8.27688998e-01,\n",
       "        9.63549993e-01,  9.98533414e-01,  9.28976720e-01,  7.62162055e-01,\n",
       "        5.15553857e-01,  2.14970440e-01, -1.08119018e-01, -4.19889102e-01,\n",
       "       -6.87699459e-01, -8.83512044e-01, -9.86826523e-01, -9.86826523e-01,\n",
       "       -8.83512044e-01, -6.87699459e-01, -4.19889102e-01, -1.08119018e-01,\n",
       "        2.14970440e-01,  5.15553857e-01,  7.62162055e-01,  9.28976720e-01,\n",
       "        9.98533414e-01,  9.63549993e-01,  8.27688998e-01,  6.05174215e-01,\n",
       "        3.19301530e-01,  3.67394040e-16])"
      ]
     },
     "execution_count": 27,
     "metadata": {},
     "output_type": "execute_result"
    }
   ],
   "source": [
    "v"
   ]
  },
  {
   "cell_type": "code",
   "execution_count": 28,
   "metadata": {},
   "outputs": [],
   "source": [
    " c = np.arange(40).reshape(5,2,4)  "
   ]
  },
  {
   "cell_type": "code",
   "execution_count": 29,
   "metadata": {},
   "outputs": [
    {
     "data": {
      "text/plain": [
       "array([[[ 0,  1,  2,  3],\n",
       "        [ 4,  5,  6,  7]],\n",
       "\n",
       "       [[ 8,  9, 10, 11],\n",
       "        [12, 13, 14, 15]],\n",
       "\n",
       "       [[16, 17, 18, 19],\n",
       "        [20, 21, 22, 23]],\n",
       "\n",
       "       [[24, 25, 26, 27],\n",
       "        [28, 29, 30, 31]],\n",
       "\n",
       "       [[32, 33, 34, 35],\n",
       "        [36, 37, 38, 39]]])"
      ]
     },
     "execution_count": 29,
     "metadata": {},
     "output_type": "execute_result"
    }
   ],
   "source": [
    "c"
   ]
  },
  {
   "cell_type": "code",
   "execution_count": 30,
   "metadata": {},
   "outputs": [],
   "source": [
    "x=np.arange(10,40,10)"
   ]
  },
  {
   "cell_type": "code",
   "execution_count": 31,
   "metadata": {},
   "outputs": [
    {
     "data": {
      "text/plain": [
       "array([10, 20, 30])"
      ]
     },
     "execution_count": 31,
     "metadata": {},
     "output_type": "execute_result"
    }
   ],
   "source": [
    "x"
   ]
  },
  {
   "cell_type": "code",
   "execution_count": 32,
   "metadata": {},
   "outputs": [],
   "source": [
    "y=np.arange(3)"
   ]
  },
  {
   "cell_type": "code",
   "execution_count": 33,
   "metadata": {},
   "outputs": [],
   "source": [
    "z=x-y"
   ]
  },
  {
   "cell_type": "code",
   "execution_count": 34,
   "metadata": {},
   "outputs": [
    {
     "data": {
      "text/plain": [
       "array([10, 19, 28])"
      ]
     },
     "execution_count": 34,
     "metadata": {},
     "output_type": "execute_result"
    }
   ],
   "source": [
    "z"
   ]
  },
  {
   "cell_type": "code",
   "execution_count": 35,
   "metadata": {},
   "outputs": [
    {
     "data": {
      "text/plain": [
       "array([ 1000,  6859, 21952], dtype=int32)"
      ]
     },
     "execution_count": 35,
     "metadata": {},
     "output_type": "execute_result"
    }
   ],
   "source": [
    "z**3"
   ]
  },
  {
   "cell_type": "code",
   "execution_count": 36,
   "metadata": {},
   "outputs": [
    {
     "data": {
      "text/plain": [
       "array([-5.44021111,  1.4987721 ,  2.70905788])"
      ]
     },
     "execution_count": 36,
     "metadata": {},
     "output_type": "execute_result"
    }
   ],
   "source": [
    "10*np.sin(z)"
   ]
  },
  {
   "cell_type": "code",
   "execution_count": 37,
   "metadata": {},
   "outputs": [
    {
     "data": {
      "text/plain": [
       "array([ True,  True, False])"
      ]
     },
     "execution_count": 37,
     "metadata": {},
     "output_type": "execute_result"
    }
   ],
   "source": [
    "z<23"
   ]
  },
  {
   "cell_type": "code",
   "execution_count": 38,
   "metadata": {},
   "outputs": [],
   "source": [
    "a=np.arange(4,12,2).reshape(2,2)"
   ]
  },
  {
   "cell_type": "code",
   "execution_count": 39,
   "metadata": {},
   "outputs": [
    {
     "data": {
      "text/plain": [
       "array([[ 4,  6],\n",
       "       [ 8, 10]])"
      ]
     },
     "execution_count": 39,
     "metadata": {},
     "output_type": "execute_result"
    }
   ],
   "source": [
    "a"
   ]
  },
  {
   "cell_type": "code",
   "execution_count": 40,
   "metadata": {},
   "outputs": [],
   "source": [
    "b=np.arange(16,24,2).reshape(2,2)"
   ]
  },
  {
   "cell_type": "code",
   "execution_count": 41,
   "metadata": {},
   "outputs": [
    {
     "data": {
      "text/plain": [
       "array([[16, 18],\n",
       "       [20, 22]])"
      ]
     },
     "execution_count": 41,
     "metadata": {},
     "output_type": "execute_result"
    }
   ],
   "source": [
    "b\n"
   ]
  },
  {
   "cell_type": "code",
   "execution_count": 42,
   "metadata": {},
   "outputs": [
    {
     "data": {
      "text/plain": [
       "array([[184, 204],\n",
       "       [328, 364]])"
      ]
     },
     "execution_count": 42,
     "metadata": {},
     "output_type": "execute_result"
    }
   ],
   "source": [
    "a.dot(b)#matrices"
   ]
  },
  {
   "cell_type": "code",
   "execution_count": 43,
   "metadata": {},
   "outputs": [
    {
     "data": {
      "text/plain": [
       "array([[184, 204],\n",
       "       [328, 364]])"
      ]
     },
     "execution_count": 43,
     "metadata": {},
     "output_type": "execute_result"
    }
   ],
   "source": [
    "np.dot(a,b)#matrix mul"
   ]
  },
  {
   "cell_type": "code",
   "execution_count": 44,
   "metadata": {},
   "outputs": [],
   "source": [
    "a=np.ones([2,2],dtype=float)"
   ]
  },
  {
   "cell_type": "code",
   "execution_count": 45,
   "metadata": {},
   "outputs": [
    {
     "data": {
      "text/plain": [
       "array([[1., 1.],\n",
       "       [1., 1.]])"
      ]
     },
     "execution_count": 45,
     "metadata": {},
     "output_type": "execute_result"
    }
   ],
   "source": [
    "a"
   ]
  },
  {
   "cell_type": "code",
   "execution_count": 46,
   "metadata": {},
   "outputs": [],
   "source": [
    "b=np.random.random([2,2])"
   ]
  },
  {
   "cell_type": "code",
   "execution_count": 47,
   "metadata": {},
   "outputs": [
    {
     "data": {
      "text/plain": [
       "array([[0.62827418, 0.76850252],\n",
       "       [0.54281544, 0.71442601]])"
      ]
     },
     "execution_count": 47,
     "metadata": {},
     "output_type": "execute_result"
    }
   ],
   "source": [
    "b"
   ]
  },
  {
   "cell_type": "code",
   "execution_count": 48,
   "metadata": {},
   "outputs": [
    {
     "data": {
      "text/plain": [
       "array([[1., 1.],\n",
       "       [1., 1.]])"
      ]
     },
     "execution_count": 48,
     "metadata": {},
     "output_type": "execute_result"
    }
   ],
   "source": [
    "a"
   ]
  },
  {
   "cell_type": "code",
   "execution_count": 49,
   "metadata": {},
   "outputs": [],
   "source": [
    "a +=3"
   ]
  },
  {
   "cell_type": "code",
   "execution_count": 50,
   "metadata": {},
   "outputs": [
    {
     "data": {
      "text/plain": [
       "array([[4., 4.],\n",
       "       [4., 4.]])"
      ]
     },
     "execution_count": 50,
     "metadata": {},
     "output_type": "execute_result"
    }
   ],
   "source": [
    "a"
   ]
  },
  {
   "cell_type": "code",
   "execution_count": 51,
   "metadata": {},
   "outputs": [
    {
     "data": {
      "text/plain": [
       "array([[0.62827418, 0.76850252],\n",
       "       [0.54281544, 0.71442601]])"
      ]
     },
     "execution_count": 51,
     "metadata": {},
     "output_type": "execute_result"
    }
   ],
   "source": [
    "b"
   ]
  },
  {
   "cell_type": "code",
   "execution_count": 52,
   "metadata": {},
   "outputs": [
    {
     "data": {
      "text/plain": [
       "array([8., 8.])"
      ]
     },
     "execution_count": 52,
     "metadata": {},
     "output_type": "execute_result"
    }
   ],
   "source": [
    "a.sum(axis=0)"
   ]
  },
  {
   "cell_type": "code",
   "execution_count": 53,
   "metadata": {},
   "outputs": [
    {
     "data": {
      "text/plain": [
       "array([[4., 4.],\n",
       "       [4., 4.]])"
      ]
     },
     "execution_count": 53,
     "metadata": {},
     "output_type": "execute_result"
    }
   ],
   "source": [
    "a"
   ]
  },
  {
   "cell_type": "code",
   "execution_count": 54,
   "metadata": {},
   "outputs": [],
   "source": [
    "def f(x,y): return 5*(x+y)"
   ]
  },
  {
   "cell_type": "code",
   "execution_count": 55,
   "metadata": {},
   "outputs": [
    {
     "data": {
      "text/plain": [
       "<function __main__.f(x, y)>"
      ]
     },
     "execution_count": 55,
     "metadata": {},
     "output_type": "execute_result"
    }
   ],
   "source": [
    "f"
   ]
  },
  {
   "cell_type": "code",
   "execution_count": 56,
   "metadata": {},
   "outputs": [],
   "source": [
    "a = np.fromfunction(f,(5,4),dtype=int)"
   ]
  },
  {
   "cell_type": "code",
   "execution_count": 57,
   "metadata": {},
   "outputs": [
    {
     "data": {
      "text/plain": [
       "array([[ 0,  5, 10, 15],\n",
       "       [ 5, 10, 15, 20],\n",
       "       [10, 15, 20, 25],\n",
       "       [15, 20, 25, 30],\n",
       "       [20, 25, 30, 35]])"
      ]
     },
     "execution_count": 57,
     "metadata": {},
     "output_type": "execute_result"
    }
   ],
   "source": [
    "a"
   ]
  },
  {
   "cell_type": "code",
   "execution_count": 58,
   "metadata": {},
   "outputs": [
    {
     "data": {
      "text/plain": [
       "array([[ 0,  5, 10, 15],\n",
       "       [15, 20, 25, 30]])"
      ]
     },
     "execution_count": 58,
     "metadata": {},
     "output_type": "execute_result"
    }
   ],
   "source": [
    "a[0:5:3]"
   ]
  },
  {
   "cell_type": "code",
   "execution_count": 59,
   "metadata": {},
   "outputs": [],
   "source": [
    "a = np.arange((12)**2).reshape(12,12)"
   ]
  },
  {
   "cell_type": "code",
   "execution_count": 60,
   "metadata": {},
   "outputs": [],
   "source": [
    "import numpy as np ;from numpy import poly1d"
   ]
  },
  {
   "cell_type": "code",
   "execution_count": 61,
   "metadata": {},
   "outputs": [],
   "source": [
    "a= poly1d([1,2,3])"
   ]
  },
  {
   "cell_type": "code",
   "execution_count": 62,
   "metadata": {},
   "outputs": [
    {
     "name": "stdout",
     "output_type": "stream",
     "text": [
      "   2\n",
      "1 x + 2 x + 3\n"
     ]
    }
   ],
   "source": [
    "print(a)"
   ]
  },
  {
   "cell_type": "code",
   "execution_count": 63,
   "metadata": {},
   "outputs": [],
   "source": [
    "b=a*a"
   ]
  },
  {
   "cell_type": "code",
   "execution_count": 64,
   "metadata": {},
   "outputs": [
    {
     "name": "stdout",
     "output_type": "stream",
     "text": [
      "   4     3      2\n",
      "1 x + 4 x + 10 x + 12 x + 9\n"
     ]
    }
   ],
   "source": [
    "print(b)"
   ]
  },
  {
   "cell_type": "code",
   "execution_count": 65,
   "metadata": {},
   "outputs": [],
   "source": [
    "import pandas as pd\n",
    "import numpy as np\n",
    "from pandas import Series"
   ]
  },
  {
   "cell_type": "code",
   "execution_count": 66,
   "metadata": {},
   "outputs": [],
   "source": [
    "s =pd.Series([1,2,3,4,5,np.nan,10])"
   ]
  },
  {
   "cell_type": "code",
   "execution_count": 67,
   "metadata": {},
   "outputs": [
    {
     "data": {
      "text/plain": [
       "0     1.0\n",
       "1     2.0\n",
       "2     3.0\n",
       "3     4.0\n",
       "4     5.0\n",
       "5     NaN\n",
       "6    10.0\n",
       "dtype: float64"
      ]
     },
     "execution_count": 67,
     "metadata": {},
     "output_type": "execute_result"
    }
   ],
   "source": [
    "s"
   ]
  },
  {
   "cell_type": "code",
   "execution_count": 68,
   "metadata": {},
   "outputs": [],
   "source": [
    "dates=pd.date_range('20120604',periods=10)"
   ]
  },
  {
   "cell_type": "code",
   "execution_count": 69,
   "metadata": {},
   "outputs": [
    {
     "data": {
      "text/plain": [
       "DatetimeIndex(['2012-06-04', '2012-06-05', '2012-06-06', '2012-06-07',\n",
       "               '2012-06-08', '2012-06-09', '2012-06-10', '2012-06-11',\n",
       "               '2012-06-12', '2012-06-13'],\n",
       "              dtype='datetime64[ns]', freq='D')"
      ]
     },
     "execution_count": 69,
     "metadata": {},
     "output_type": "execute_result"
    }
   ],
   "source": [
    "dates"
   ]
  },
  {
   "cell_type": "code",
   "execution_count": 70,
   "metadata": {},
   "outputs": [],
   "source": [
    "df=pd.DataFrame(np.random.randn(10,5),index=dates,columns=list('ABCXY'))"
   ]
  },
  {
   "cell_type": "code",
   "execution_count": 71,
   "metadata": {},
   "outputs": [
    {
     "data": {
      "text/html": [
       "<div>\n",
       "<style scoped>\n",
       "    .dataframe tbody tr th:only-of-type {\n",
       "        vertical-align: middle;\n",
       "    }\n",
       "\n",
       "    .dataframe tbody tr th {\n",
       "        vertical-align: top;\n",
       "    }\n",
       "\n",
       "    .dataframe thead th {\n",
       "        text-align: right;\n",
       "    }\n",
       "</style>\n",
       "<table border=\"1\" class=\"dataframe\">\n",
       "  <thead>\n",
       "    <tr style=\"text-align: right;\">\n",
       "      <th></th>\n",
       "      <th>A</th>\n",
       "      <th>B</th>\n",
       "      <th>C</th>\n",
       "      <th>X</th>\n",
       "      <th>Y</th>\n",
       "    </tr>\n",
       "  </thead>\n",
       "  <tbody>\n",
       "    <tr>\n",
       "      <th>2012-06-04</th>\n",
       "      <td>-0.239375</td>\n",
       "      <td>0.950554</td>\n",
       "      <td>0.353932</td>\n",
       "      <td>0.021982</td>\n",
       "      <td>-0.013600</td>\n",
       "    </tr>\n",
       "    <tr>\n",
       "      <th>2012-06-05</th>\n",
       "      <td>-2.462406</td>\n",
       "      <td>1.042718</td>\n",
       "      <td>-0.546554</td>\n",
       "      <td>-0.237367</td>\n",
       "      <td>-1.303326</td>\n",
       "    </tr>\n",
       "    <tr>\n",
       "      <th>2012-06-06</th>\n",
       "      <td>-0.717430</td>\n",
       "      <td>0.953287</td>\n",
       "      <td>0.388315</td>\n",
       "      <td>0.134076</td>\n",
       "      <td>-1.108302</td>\n",
       "    </tr>\n",
       "    <tr>\n",
       "      <th>2012-06-07</th>\n",
       "      <td>0.848421</td>\n",
       "      <td>-0.769418</td>\n",
       "      <td>1.633854</td>\n",
       "      <td>0.651321</td>\n",
       "      <td>0.402359</td>\n",
       "    </tr>\n",
       "    <tr>\n",
       "      <th>2012-06-08</th>\n",
       "      <td>-0.548329</td>\n",
       "      <td>-0.057132</td>\n",
       "      <td>-0.984499</td>\n",
       "      <td>-1.142881</td>\n",
       "      <td>-0.710199</td>\n",
       "    </tr>\n",
       "    <tr>\n",
       "      <th>2012-06-09</th>\n",
       "      <td>-0.629890</td>\n",
       "      <td>0.712299</td>\n",
       "      <td>-1.755329</td>\n",
       "      <td>1.283158</td>\n",
       "      <td>-0.936403</td>\n",
       "    </tr>\n",
       "    <tr>\n",
       "      <th>2012-06-10</th>\n",
       "      <td>0.474037</td>\n",
       "      <td>-0.034130</td>\n",
       "      <td>-0.395654</td>\n",
       "      <td>0.212628</td>\n",
       "      <td>0.509765</td>\n",
       "    </tr>\n",
       "    <tr>\n",
       "      <th>2012-06-11</th>\n",
       "      <td>-0.899504</td>\n",
       "      <td>-1.285180</td>\n",
       "      <td>-0.362115</td>\n",
       "      <td>0.227139</td>\n",
       "      <td>-0.011783</td>\n",
       "    </tr>\n",
       "    <tr>\n",
       "      <th>2012-06-12</th>\n",
       "      <td>0.471836</td>\n",
       "      <td>0.324206</td>\n",
       "      <td>-0.148179</td>\n",
       "      <td>-0.653518</td>\n",
       "      <td>-0.868810</td>\n",
       "    </tr>\n",
       "    <tr>\n",
       "      <th>2012-06-13</th>\n",
       "      <td>-2.343007</td>\n",
       "      <td>0.614863</td>\n",
       "      <td>1.777752</td>\n",
       "      <td>1.290481</td>\n",
       "      <td>-0.504394</td>\n",
       "    </tr>\n",
       "  </tbody>\n",
       "</table>\n",
       "</div>"
      ],
      "text/plain": [
       "                   A         B         C         X         Y\n",
       "2012-06-04 -0.239375  0.950554  0.353932  0.021982 -0.013600\n",
       "2012-06-05 -2.462406  1.042718 -0.546554 -0.237367 -1.303326\n",
       "2012-06-06 -0.717430  0.953287  0.388315  0.134076 -1.108302\n",
       "2012-06-07  0.848421 -0.769418  1.633854  0.651321  0.402359\n",
       "2012-06-08 -0.548329 -0.057132 -0.984499 -1.142881 -0.710199\n",
       "2012-06-09 -0.629890  0.712299 -1.755329  1.283158 -0.936403\n",
       "2012-06-10  0.474037 -0.034130 -0.395654  0.212628  0.509765\n",
       "2012-06-11 -0.899504 -1.285180 -0.362115  0.227139 -0.011783\n",
       "2012-06-12  0.471836  0.324206 -0.148179 -0.653518 -0.868810\n",
       "2012-06-13 -2.343007  0.614863  1.777752  1.290481 -0.504394"
      ]
     },
     "execution_count": 71,
     "metadata": {},
     "output_type": "execute_result"
    }
   ],
   "source": [
    "df"
   ]
  },
  {
   "cell_type": "code",
   "execution_count": 72,
   "metadata": {},
   "outputs": [],
   "source": [
    " df2 = pd.DataFrame({'A' : np.arange(5),\n",
    "                     'B' : pd.Timestamp('20130102'),\n",
    "                     'C' : pd.Series(1,index=list(\"ABCDE\"),dtype='float32'),\n",
    "                     'D' : np.array([3] * 5,dtype='int32'),\n",
    "                     'E' : pd.Categorical([\"test\",\"train\",\"test\",\"train\",\"test\"]),\n",
    "                     'F' : 'foo' })"
   ]
  },
  {
   "cell_type": "code",
   "execution_count": 73,
   "metadata": {},
   "outputs": [
    {
     "data": {
      "text/html": [
       "<div>\n",
       "<style scoped>\n",
       "    .dataframe tbody tr th:only-of-type {\n",
       "        vertical-align: middle;\n",
       "    }\n",
       "\n",
       "    .dataframe tbody tr th {\n",
       "        vertical-align: top;\n",
       "    }\n",
       "\n",
       "    .dataframe thead th {\n",
       "        text-align: right;\n",
       "    }\n",
       "</style>\n",
       "<table border=\"1\" class=\"dataframe\">\n",
       "  <thead>\n",
       "    <tr style=\"text-align: right;\">\n",
       "      <th></th>\n",
       "      <th>A</th>\n",
       "      <th>B</th>\n",
       "      <th>C</th>\n",
       "      <th>D</th>\n",
       "      <th>E</th>\n",
       "      <th>F</th>\n",
       "    </tr>\n",
       "  </thead>\n",
       "  <tbody>\n",
       "    <tr>\n",
       "      <th>A</th>\n",
       "      <td>0</td>\n",
       "      <td>2013-01-02</td>\n",
       "      <td>1.0</td>\n",
       "      <td>3</td>\n",
       "      <td>test</td>\n",
       "      <td>foo</td>\n",
       "    </tr>\n",
       "    <tr>\n",
       "      <th>B</th>\n",
       "      <td>1</td>\n",
       "      <td>2013-01-02</td>\n",
       "      <td>1.0</td>\n",
       "      <td>3</td>\n",
       "      <td>train</td>\n",
       "      <td>foo</td>\n",
       "    </tr>\n",
       "    <tr>\n",
       "      <th>C</th>\n",
       "      <td>2</td>\n",
       "      <td>2013-01-02</td>\n",
       "      <td>1.0</td>\n",
       "      <td>3</td>\n",
       "      <td>test</td>\n",
       "      <td>foo</td>\n",
       "    </tr>\n",
       "    <tr>\n",
       "      <th>D</th>\n",
       "      <td>3</td>\n",
       "      <td>2013-01-02</td>\n",
       "      <td>1.0</td>\n",
       "      <td>3</td>\n",
       "      <td>train</td>\n",
       "      <td>foo</td>\n",
       "    </tr>\n",
       "    <tr>\n",
       "      <th>E</th>\n",
       "      <td>4</td>\n",
       "      <td>2013-01-02</td>\n",
       "      <td>1.0</td>\n",
       "      <td>3</td>\n",
       "      <td>test</td>\n",
       "      <td>foo</td>\n",
       "    </tr>\n",
       "  </tbody>\n",
       "</table>\n",
       "</div>"
      ],
      "text/plain": [
       "   A          B    C  D      E    F\n",
       "A  0 2013-01-02  1.0  3   test  foo\n",
       "B  1 2013-01-02  1.0  3  train  foo\n",
       "C  2 2013-01-02  1.0  3   test  foo\n",
       "D  3 2013-01-02  1.0  3  train  foo\n",
       "E  4 2013-01-02  1.0  3   test  foo"
      ]
     },
     "execution_count": 73,
     "metadata": {},
     "output_type": "execute_result"
    }
   ],
   "source": [
    "df2"
   ]
  },
  {
   "cell_type": "code",
   "execution_count": 74,
   "metadata": {},
   "outputs": [
    {
     "data": {
      "text/plain": [
       "DatetimeIndex(['2012-06-04', '2012-06-05', '2012-06-06', '2012-06-07',\n",
       "               '2012-06-08', '2012-06-09', '2012-06-10', '2012-06-11',\n",
       "               '2012-06-12', '2012-06-13'],\n",
       "              dtype='datetime64[ns]', freq='D')"
      ]
     },
     "execution_count": 74,
     "metadata": {},
     "output_type": "execute_result"
    }
   ],
   "source": [
    "df.index"
   ]
  },
  {
   "cell_type": "code",
   "execution_count": 75,
   "metadata": {},
   "outputs": [
    {
     "data": {
      "text/plain": [
       "<bound method NDFrame.describe of                    A         B         C         X         Y\n",
       "2012-06-04 -0.239375  0.950554  0.353932  0.021982 -0.013600\n",
       "2012-06-05 -2.462406  1.042718 -0.546554 -0.237367 -1.303326\n",
       "2012-06-06 -0.717430  0.953287  0.388315  0.134076 -1.108302\n",
       "2012-06-07  0.848421 -0.769418  1.633854  0.651321  0.402359\n",
       "2012-06-08 -0.548329 -0.057132 -0.984499 -1.142881 -0.710199\n",
       "2012-06-09 -0.629890  0.712299 -1.755329  1.283158 -0.936403\n",
       "2012-06-10  0.474037 -0.034130 -0.395654  0.212628  0.509765\n",
       "2012-06-11 -0.899504 -1.285180 -0.362115  0.227139 -0.011783\n",
       "2012-06-12  0.471836  0.324206 -0.148179 -0.653518 -0.868810\n",
       "2012-06-13 -2.343007  0.614863  1.777752  1.290481 -0.504394>"
      ]
     },
     "execution_count": 75,
     "metadata": {},
     "output_type": "execute_result"
    }
   ],
   "source": [
    "df.describe"
   ]
  },
  {
   "cell_type": "code",
   "execution_count": 76,
   "metadata": {},
   "outputs": [
    {
     "data": {
      "text/plain": [
       "array([[-0.23937527,  0.95055378,  0.35393217,  0.02198171, -0.01359996],\n",
       "       [-2.46240587,  1.04271809, -0.54655425, -0.23736684, -1.30332578],\n",
       "       [-0.71743024,  0.95328707,  0.38831497,  0.13407603, -1.10830212],\n",
       "       [ 0.84842134, -0.76941813,  1.63385398,  0.65132103,  0.40235889],\n",
       "       [-0.54832937, -0.05713226, -0.98449936, -1.14288053, -0.71019878],\n",
       "       [-0.6298903 ,  0.71229907, -1.75532933,  1.28315815, -0.93640343],\n",
       "       [ 0.47403734, -0.03413047, -0.39565422,  0.21262845,  0.50976451],\n",
       "       [-0.89950414, -1.28517995, -0.36211487,  0.22713939, -0.01178267],\n",
       "       [ 0.47183623,  0.32420643, -0.14817885, -0.65351844, -0.86880965],\n",
       "       [-2.34300734,  0.61486294,  1.77775218,  1.2904813 , -0.50439381]])"
      ]
     },
     "execution_count": 76,
     "metadata": {},
     "output_type": "execute_result"
    }
   ],
   "source": [
    "df.values"
   ]
  },
  {
   "cell_type": "code",
   "execution_count": 77,
   "metadata": {},
   "outputs": [
    {
     "data": {
      "text/html": [
       "<div>\n",
       "<style scoped>\n",
       "    .dataframe tbody tr th:only-of-type {\n",
       "        vertical-align: middle;\n",
       "    }\n",
       "\n",
       "    .dataframe tbody tr th {\n",
       "        vertical-align: top;\n",
       "    }\n",
       "\n",
       "    .dataframe thead th {\n",
       "        text-align: right;\n",
       "    }\n",
       "</style>\n",
       "<table border=\"1\" class=\"dataframe\">\n",
       "  <thead>\n",
       "    <tr style=\"text-align: right;\">\n",
       "      <th></th>\n",
       "      <th>Y</th>\n",
       "      <th>X</th>\n",
       "      <th>C</th>\n",
       "      <th>B</th>\n",
       "      <th>A</th>\n",
       "    </tr>\n",
       "  </thead>\n",
       "  <tbody>\n",
       "    <tr>\n",
       "      <th>2012-06-04</th>\n",
       "      <td>-0.013600</td>\n",
       "      <td>0.021982</td>\n",
       "      <td>0.353932</td>\n",
       "      <td>0.950554</td>\n",
       "      <td>-0.239375</td>\n",
       "    </tr>\n",
       "    <tr>\n",
       "      <th>2012-06-05</th>\n",
       "      <td>-1.303326</td>\n",
       "      <td>-0.237367</td>\n",
       "      <td>-0.546554</td>\n",
       "      <td>1.042718</td>\n",
       "      <td>-2.462406</td>\n",
       "    </tr>\n",
       "    <tr>\n",
       "      <th>2012-06-06</th>\n",
       "      <td>-1.108302</td>\n",
       "      <td>0.134076</td>\n",
       "      <td>0.388315</td>\n",
       "      <td>0.953287</td>\n",
       "      <td>-0.717430</td>\n",
       "    </tr>\n",
       "    <tr>\n",
       "      <th>2012-06-07</th>\n",
       "      <td>0.402359</td>\n",
       "      <td>0.651321</td>\n",
       "      <td>1.633854</td>\n",
       "      <td>-0.769418</td>\n",
       "      <td>0.848421</td>\n",
       "    </tr>\n",
       "    <tr>\n",
       "      <th>2012-06-08</th>\n",
       "      <td>-0.710199</td>\n",
       "      <td>-1.142881</td>\n",
       "      <td>-0.984499</td>\n",
       "      <td>-0.057132</td>\n",
       "      <td>-0.548329</td>\n",
       "    </tr>\n",
       "    <tr>\n",
       "      <th>2012-06-09</th>\n",
       "      <td>-0.936403</td>\n",
       "      <td>1.283158</td>\n",
       "      <td>-1.755329</td>\n",
       "      <td>0.712299</td>\n",
       "      <td>-0.629890</td>\n",
       "    </tr>\n",
       "    <tr>\n",
       "      <th>2012-06-10</th>\n",
       "      <td>0.509765</td>\n",
       "      <td>0.212628</td>\n",
       "      <td>-0.395654</td>\n",
       "      <td>-0.034130</td>\n",
       "      <td>0.474037</td>\n",
       "    </tr>\n",
       "    <tr>\n",
       "      <th>2012-06-11</th>\n",
       "      <td>-0.011783</td>\n",
       "      <td>0.227139</td>\n",
       "      <td>-0.362115</td>\n",
       "      <td>-1.285180</td>\n",
       "      <td>-0.899504</td>\n",
       "    </tr>\n",
       "    <tr>\n",
       "      <th>2012-06-12</th>\n",
       "      <td>-0.868810</td>\n",
       "      <td>-0.653518</td>\n",
       "      <td>-0.148179</td>\n",
       "      <td>0.324206</td>\n",
       "      <td>0.471836</td>\n",
       "    </tr>\n",
       "    <tr>\n",
       "      <th>2012-06-13</th>\n",
       "      <td>-0.504394</td>\n",
       "      <td>1.290481</td>\n",
       "      <td>1.777752</td>\n",
       "      <td>0.614863</td>\n",
       "      <td>-2.343007</td>\n",
       "    </tr>\n",
       "  </tbody>\n",
       "</table>\n",
       "</div>"
      ],
      "text/plain": [
       "                   Y         X         C         B         A\n",
       "2012-06-04 -0.013600  0.021982  0.353932  0.950554 -0.239375\n",
       "2012-06-05 -1.303326 -0.237367 -0.546554  1.042718 -2.462406\n",
       "2012-06-06 -1.108302  0.134076  0.388315  0.953287 -0.717430\n",
       "2012-06-07  0.402359  0.651321  1.633854 -0.769418  0.848421\n",
       "2012-06-08 -0.710199 -1.142881 -0.984499 -0.057132 -0.548329\n",
       "2012-06-09 -0.936403  1.283158 -1.755329  0.712299 -0.629890\n",
       "2012-06-10  0.509765  0.212628 -0.395654 -0.034130  0.474037\n",
       "2012-06-11 -0.011783  0.227139 -0.362115 -1.285180 -0.899504\n",
       "2012-06-12 -0.868810 -0.653518 -0.148179  0.324206  0.471836\n",
       "2012-06-13 -0.504394  1.290481  1.777752  0.614863 -2.343007"
      ]
     },
     "execution_count": 77,
     "metadata": {},
     "output_type": "execute_result"
    }
   ],
   "source": [
    "df.sort_index(axis=1,ascending =False)"
   ]
  },
  {
   "cell_type": "code",
   "execution_count": 78,
   "metadata": {},
   "outputs": [
    {
     "data": {
      "text/html": [
       "<div>\n",
       "<style scoped>\n",
       "    .dataframe tbody tr th:only-of-type {\n",
       "        vertical-align: middle;\n",
       "    }\n",
       "\n",
       "    .dataframe tbody tr th {\n",
       "        vertical-align: top;\n",
       "    }\n",
       "\n",
       "    .dataframe thead th {\n",
       "        text-align: right;\n",
       "    }\n",
       "</style>\n",
       "<table border=\"1\" class=\"dataframe\">\n",
       "  <thead>\n",
       "    <tr style=\"text-align: right;\">\n",
       "      <th></th>\n",
       "      <th>A</th>\n",
       "      <th>B</th>\n",
       "      <th>C</th>\n",
       "      <th>X</th>\n",
       "      <th>Y</th>\n",
       "    </tr>\n",
       "  </thead>\n",
       "  <tbody>\n",
       "    <tr>\n",
       "      <th>2012-06-04</th>\n",
       "      <td>-0.239375</td>\n",
       "      <td>0.950554</td>\n",
       "      <td>0.353932</td>\n",
       "      <td>0.021982</td>\n",
       "      <td>-0.013600</td>\n",
       "    </tr>\n",
       "    <tr>\n",
       "      <th>2012-06-05</th>\n",
       "      <td>-2.462406</td>\n",
       "      <td>1.042718</td>\n",
       "      <td>-0.546554</td>\n",
       "      <td>-0.237367</td>\n",
       "      <td>-1.303326</td>\n",
       "    </tr>\n",
       "    <tr>\n",
       "      <th>2012-06-06</th>\n",
       "      <td>-0.717430</td>\n",
       "      <td>0.953287</td>\n",
       "      <td>0.388315</td>\n",
       "      <td>0.134076</td>\n",
       "      <td>-1.108302</td>\n",
       "    </tr>\n",
       "    <tr>\n",
       "      <th>2012-06-07</th>\n",
       "      <td>0.848421</td>\n",
       "      <td>-0.769418</td>\n",
       "      <td>1.633854</td>\n",
       "      <td>0.651321</td>\n",
       "      <td>0.402359</td>\n",
       "    </tr>\n",
       "    <tr>\n",
       "      <th>2012-06-08</th>\n",
       "      <td>-0.548329</td>\n",
       "      <td>-0.057132</td>\n",
       "      <td>-0.984499</td>\n",
       "      <td>-1.142881</td>\n",
       "      <td>-0.710199</td>\n",
       "    </tr>\n",
       "    <tr>\n",
       "      <th>2012-06-09</th>\n",
       "      <td>-0.629890</td>\n",
       "      <td>0.712299</td>\n",
       "      <td>-1.755329</td>\n",
       "      <td>1.283158</td>\n",
       "      <td>-0.936403</td>\n",
       "    </tr>\n",
       "    <tr>\n",
       "      <th>2012-06-10</th>\n",
       "      <td>0.474037</td>\n",
       "      <td>-0.034130</td>\n",
       "      <td>-0.395654</td>\n",
       "      <td>0.212628</td>\n",
       "      <td>0.509765</td>\n",
       "    </tr>\n",
       "    <tr>\n",
       "      <th>2012-06-11</th>\n",
       "      <td>-0.899504</td>\n",
       "      <td>-1.285180</td>\n",
       "      <td>-0.362115</td>\n",
       "      <td>0.227139</td>\n",
       "      <td>-0.011783</td>\n",
       "    </tr>\n",
       "    <tr>\n",
       "      <th>2012-06-12</th>\n",
       "      <td>0.471836</td>\n",
       "      <td>0.324206</td>\n",
       "      <td>-0.148179</td>\n",
       "      <td>-0.653518</td>\n",
       "      <td>-0.868810</td>\n",
       "    </tr>\n",
       "    <tr>\n",
       "      <th>2012-06-13</th>\n",
       "      <td>-2.343007</td>\n",
       "      <td>0.614863</td>\n",
       "      <td>1.777752</td>\n",
       "      <td>1.290481</td>\n",
       "      <td>-0.504394</td>\n",
       "    </tr>\n",
       "  </tbody>\n",
       "</table>\n",
       "</div>"
      ],
      "text/plain": [
       "                   A         B         C         X         Y\n",
       "2012-06-04 -0.239375  0.950554  0.353932  0.021982 -0.013600\n",
       "2012-06-05 -2.462406  1.042718 -0.546554 -0.237367 -1.303326\n",
       "2012-06-06 -0.717430  0.953287  0.388315  0.134076 -1.108302\n",
       "2012-06-07  0.848421 -0.769418  1.633854  0.651321  0.402359\n",
       "2012-06-08 -0.548329 -0.057132 -0.984499 -1.142881 -0.710199\n",
       "2012-06-09 -0.629890  0.712299 -1.755329  1.283158 -0.936403\n",
       "2012-06-10  0.474037 -0.034130 -0.395654  0.212628  0.509765\n",
       "2012-06-11 -0.899504 -1.285180 -0.362115  0.227139 -0.011783\n",
       "2012-06-12  0.471836  0.324206 -0.148179 -0.653518 -0.868810\n",
       "2012-06-13 -2.343007  0.614863  1.777752  1.290481 -0.504394"
      ]
     },
     "execution_count": 78,
     "metadata": {},
     "output_type": "execute_result"
    }
   ],
   "source": [
    "df"
   ]
  },
  {
   "cell_type": "code",
   "execution_count": 79,
   "metadata": {},
   "outputs": [
    {
     "data": {
      "text/html": [
       "<div>\n",
       "<style scoped>\n",
       "    .dataframe tbody tr th:only-of-type {\n",
       "        vertical-align: middle;\n",
       "    }\n",
       "\n",
       "    .dataframe tbody tr th {\n",
       "        vertical-align: top;\n",
       "    }\n",
       "\n",
       "    .dataframe thead th {\n",
       "        text-align: right;\n",
       "    }\n",
       "</style>\n",
       "<table border=\"1\" class=\"dataframe\">\n",
       "  <thead>\n",
       "    <tr style=\"text-align: right;\">\n",
       "      <th></th>\n",
       "      <th>A</th>\n",
       "      <th>B</th>\n",
       "      <th>C</th>\n",
       "      <th>X</th>\n",
       "      <th>Y</th>\n",
       "    </tr>\n",
       "  </thead>\n",
       "  <tbody>\n",
       "    <tr>\n",
       "      <th>2012-06-09</th>\n",
       "      <td>-0.629890</td>\n",
       "      <td>0.712299</td>\n",
       "      <td>-1.755329</td>\n",
       "      <td>1.283158</td>\n",
       "      <td>-0.936403</td>\n",
       "    </tr>\n",
       "    <tr>\n",
       "      <th>2012-06-08</th>\n",
       "      <td>-0.548329</td>\n",
       "      <td>-0.057132</td>\n",
       "      <td>-0.984499</td>\n",
       "      <td>-1.142881</td>\n",
       "      <td>-0.710199</td>\n",
       "    </tr>\n",
       "    <tr>\n",
       "      <th>2012-06-05</th>\n",
       "      <td>-2.462406</td>\n",
       "      <td>1.042718</td>\n",
       "      <td>-0.546554</td>\n",
       "      <td>-0.237367</td>\n",
       "      <td>-1.303326</td>\n",
       "    </tr>\n",
       "    <tr>\n",
       "      <th>2012-06-10</th>\n",
       "      <td>0.474037</td>\n",
       "      <td>-0.034130</td>\n",
       "      <td>-0.395654</td>\n",
       "      <td>0.212628</td>\n",
       "      <td>0.509765</td>\n",
       "    </tr>\n",
       "    <tr>\n",
       "      <th>2012-06-11</th>\n",
       "      <td>-0.899504</td>\n",
       "      <td>-1.285180</td>\n",
       "      <td>-0.362115</td>\n",
       "      <td>0.227139</td>\n",
       "      <td>-0.011783</td>\n",
       "    </tr>\n",
       "    <tr>\n",
       "      <th>2012-06-12</th>\n",
       "      <td>0.471836</td>\n",
       "      <td>0.324206</td>\n",
       "      <td>-0.148179</td>\n",
       "      <td>-0.653518</td>\n",
       "      <td>-0.868810</td>\n",
       "    </tr>\n",
       "    <tr>\n",
       "      <th>2012-06-04</th>\n",
       "      <td>-0.239375</td>\n",
       "      <td>0.950554</td>\n",
       "      <td>0.353932</td>\n",
       "      <td>0.021982</td>\n",
       "      <td>-0.013600</td>\n",
       "    </tr>\n",
       "    <tr>\n",
       "      <th>2012-06-06</th>\n",
       "      <td>-0.717430</td>\n",
       "      <td>0.953287</td>\n",
       "      <td>0.388315</td>\n",
       "      <td>0.134076</td>\n",
       "      <td>-1.108302</td>\n",
       "    </tr>\n",
       "    <tr>\n",
       "      <th>2012-06-07</th>\n",
       "      <td>0.848421</td>\n",
       "      <td>-0.769418</td>\n",
       "      <td>1.633854</td>\n",
       "      <td>0.651321</td>\n",
       "      <td>0.402359</td>\n",
       "    </tr>\n",
       "    <tr>\n",
       "      <th>2012-06-13</th>\n",
       "      <td>-2.343007</td>\n",
       "      <td>0.614863</td>\n",
       "      <td>1.777752</td>\n",
       "      <td>1.290481</td>\n",
       "      <td>-0.504394</td>\n",
       "    </tr>\n",
       "  </tbody>\n",
       "</table>\n",
       "</div>"
      ],
      "text/plain": [
       "                   A         B         C         X         Y\n",
       "2012-06-09 -0.629890  0.712299 -1.755329  1.283158 -0.936403\n",
       "2012-06-08 -0.548329 -0.057132 -0.984499 -1.142881 -0.710199\n",
       "2012-06-05 -2.462406  1.042718 -0.546554 -0.237367 -1.303326\n",
       "2012-06-10  0.474037 -0.034130 -0.395654  0.212628  0.509765\n",
       "2012-06-11 -0.899504 -1.285180 -0.362115  0.227139 -0.011783\n",
       "2012-06-12  0.471836  0.324206 -0.148179 -0.653518 -0.868810\n",
       "2012-06-04 -0.239375  0.950554  0.353932  0.021982 -0.013600\n",
       "2012-06-06 -0.717430  0.953287  0.388315  0.134076 -1.108302\n",
       "2012-06-07  0.848421 -0.769418  1.633854  0.651321  0.402359\n",
       "2012-06-13 -2.343007  0.614863  1.777752  1.290481 -0.504394"
      ]
     },
     "execution_count": 79,
     "metadata": {},
     "output_type": "execute_result"
    }
   ],
   "source": [
    "df.sort_values(by='C')"
   ]
  },
  {
   "cell_type": "code",
   "execution_count": 80,
   "metadata": {},
   "outputs": [
    {
     "ename": "KeyError",
     "evalue": "('A', 'X')",
     "output_type": "error",
     "traceback": [
      "\u001b[1;31m---------------------------------------------------------------------------\u001b[0m",
      "\u001b[1;31mKeyError\u001b[0m                                  Traceback (most recent call last)",
      "\u001b[1;32mC:\\ProgramData\\Anaconda3\\lib\\site-packages\\pandas\\core\\indexes\\base.py\u001b[0m in \u001b[0;36mget_loc\u001b[1;34m(self, key, method, tolerance)\u001b[0m\n\u001b[0;32m   3077\u001b[0m             \u001b[1;32mtry\u001b[0m\u001b[1;33m:\u001b[0m\u001b[1;33m\u001b[0m\u001b[0m\n\u001b[1;32m-> 3078\u001b[1;33m                 \u001b[1;32mreturn\u001b[0m \u001b[0mself\u001b[0m\u001b[1;33m.\u001b[0m\u001b[0m_engine\u001b[0m\u001b[1;33m.\u001b[0m\u001b[0mget_loc\u001b[0m\u001b[1;33m(\u001b[0m\u001b[0mkey\u001b[0m\u001b[1;33m)\u001b[0m\u001b[1;33m\u001b[0m\u001b[0m\n\u001b[0m\u001b[0;32m   3079\u001b[0m             \u001b[1;32mexcept\u001b[0m \u001b[0mKeyError\u001b[0m\u001b[1;33m:\u001b[0m\u001b[1;33m\u001b[0m\u001b[0m\n",
      "\u001b[1;32mpandas\\_libs\\index.pyx\u001b[0m in \u001b[0;36mpandas._libs.index.IndexEngine.get_loc\u001b[1;34m()\u001b[0m\n",
      "\u001b[1;32mpandas\\_libs\\index.pyx\u001b[0m in \u001b[0;36mpandas._libs.index.IndexEngine.get_loc\u001b[1;34m()\u001b[0m\n",
      "\u001b[1;32mpandas\\_libs\\hashtable_class_helper.pxi\u001b[0m in \u001b[0;36mpandas._libs.hashtable.PyObjectHashTable.get_item\u001b[1;34m()\u001b[0m\n",
      "\u001b[1;32mpandas\\_libs\\hashtable_class_helper.pxi\u001b[0m in \u001b[0;36mpandas._libs.hashtable.PyObjectHashTable.get_item\u001b[1;34m()\u001b[0m\n",
      "\u001b[1;31mKeyError\u001b[0m: ('A', 'X')",
      "\nDuring handling of the above exception, another exception occurred:\n",
      "\u001b[1;31mKeyError\u001b[0m                                  Traceback (most recent call last)",
      "\u001b[1;32m<ipython-input-80-12475c0798af>\u001b[0m in \u001b[0;36m<module>\u001b[1;34m()\u001b[0m\n\u001b[1;32m----> 1\u001b[1;33m \u001b[0mdf\u001b[0m\u001b[1;33m[\u001b[0m\u001b[1;34m'A'\u001b[0m\u001b[1;33m,\u001b[0m\u001b[1;34m'X'\u001b[0m\u001b[1;33m]\u001b[0m\u001b[1;33m\u001b[0m\u001b[0m\n\u001b[0m",
      "\u001b[1;32mC:\\ProgramData\\Anaconda3\\lib\\site-packages\\pandas\\core\\frame.py\u001b[0m in \u001b[0;36m__getitem__\u001b[1;34m(self, key)\u001b[0m\n\u001b[0;32m   2686\u001b[0m             \u001b[1;32mreturn\u001b[0m \u001b[0mself\u001b[0m\u001b[1;33m.\u001b[0m\u001b[0m_getitem_multilevel\u001b[0m\u001b[1;33m(\u001b[0m\u001b[0mkey\u001b[0m\u001b[1;33m)\u001b[0m\u001b[1;33m\u001b[0m\u001b[0m\n\u001b[0;32m   2687\u001b[0m         \u001b[1;32melse\u001b[0m\u001b[1;33m:\u001b[0m\u001b[1;33m\u001b[0m\u001b[0m\n\u001b[1;32m-> 2688\u001b[1;33m             \u001b[1;32mreturn\u001b[0m \u001b[0mself\u001b[0m\u001b[1;33m.\u001b[0m\u001b[0m_getitem_column\u001b[0m\u001b[1;33m(\u001b[0m\u001b[0mkey\u001b[0m\u001b[1;33m)\u001b[0m\u001b[1;33m\u001b[0m\u001b[0m\n\u001b[0m\u001b[0;32m   2689\u001b[0m \u001b[1;33m\u001b[0m\u001b[0m\n\u001b[0;32m   2690\u001b[0m     \u001b[1;32mdef\u001b[0m \u001b[0m_getitem_column\u001b[0m\u001b[1;33m(\u001b[0m\u001b[0mself\u001b[0m\u001b[1;33m,\u001b[0m \u001b[0mkey\u001b[0m\u001b[1;33m)\u001b[0m\u001b[1;33m:\u001b[0m\u001b[1;33m\u001b[0m\u001b[0m\n",
      "\u001b[1;32mC:\\ProgramData\\Anaconda3\\lib\\site-packages\\pandas\\core\\frame.py\u001b[0m in \u001b[0;36m_getitem_column\u001b[1;34m(self, key)\u001b[0m\n\u001b[0;32m   2693\u001b[0m         \u001b[1;31m# get column\u001b[0m\u001b[1;33m\u001b[0m\u001b[1;33m\u001b[0m\u001b[0m\n\u001b[0;32m   2694\u001b[0m         \u001b[1;32mif\u001b[0m \u001b[0mself\u001b[0m\u001b[1;33m.\u001b[0m\u001b[0mcolumns\u001b[0m\u001b[1;33m.\u001b[0m\u001b[0mis_unique\u001b[0m\u001b[1;33m:\u001b[0m\u001b[1;33m\u001b[0m\u001b[0m\n\u001b[1;32m-> 2695\u001b[1;33m             \u001b[1;32mreturn\u001b[0m \u001b[0mself\u001b[0m\u001b[1;33m.\u001b[0m\u001b[0m_get_item_cache\u001b[0m\u001b[1;33m(\u001b[0m\u001b[0mkey\u001b[0m\u001b[1;33m)\u001b[0m\u001b[1;33m\u001b[0m\u001b[0m\n\u001b[0m\u001b[0;32m   2696\u001b[0m \u001b[1;33m\u001b[0m\u001b[0m\n\u001b[0;32m   2697\u001b[0m         \u001b[1;31m# duplicate columns & possible reduce dimensionality\u001b[0m\u001b[1;33m\u001b[0m\u001b[1;33m\u001b[0m\u001b[0m\n",
      "\u001b[1;32mC:\\ProgramData\\Anaconda3\\lib\\site-packages\\pandas\\core\\generic.py\u001b[0m in \u001b[0;36m_get_item_cache\u001b[1;34m(self, item)\u001b[0m\n\u001b[0;32m   2487\u001b[0m         \u001b[0mres\u001b[0m \u001b[1;33m=\u001b[0m \u001b[0mcache\u001b[0m\u001b[1;33m.\u001b[0m\u001b[0mget\u001b[0m\u001b[1;33m(\u001b[0m\u001b[0mitem\u001b[0m\u001b[1;33m)\u001b[0m\u001b[1;33m\u001b[0m\u001b[0m\n\u001b[0;32m   2488\u001b[0m         \u001b[1;32mif\u001b[0m \u001b[0mres\u001b[0m \u001b[1;32mis\u001b[0m \u001b[1;32mNone\u001b[0m\u001b[1;33m:\u001b[0m\u001b[1;33m\u001b[0m\u001b[0m\n\u001b[1;32m-> 2489\u001b[1;33m             \u001b[0mvalues\u001b[0m \u001b[1;33m=\u001b[0m \u001b[0mself\u001b[0m\u001b[1;33m.\u001b[0m\u001b[0m_data\u001b[0m\u001b[1;33m.\u001b[0m\u001b[0mget\u001b[0m\u001b[1;33m(\u001b[0m\u001b[0mitem\u001b[0m\u001b[1;33m)\u001b[0m\u001b[1;33m\u001b[0m\u001b[0m\n\u001b[0m\u001b[0;32m   2490\u001b[0m             \u001b[0mres\u001b[0m \u001b[1;33m=\u001b[0m \u001b[0mself\u001b[0m\u001b[1;33m.\u001b[0m\u001b[0m_box_item_values\u001b[0m\u001b[1;33m(\u001b[0m\u001b[0mitem\u001b[0m\u001b[1;33m,\u001b[0m \u001b[0mvalues\u001b[0m\u001b[1;33m)\u001b[0m\u001b[1;33m\u001b[0m\u001b[0m\n\u001b[0;32m   2491\u001b[0m             \u001b[0mcache\u001b[0m\u001b[1;33m[\u001b[0m\u001b[0mitem\u001b[0m\u001b[1;33m]\u001b[0m \u001b[1;33m=\u001b[0m \u001b[0mres\u001b[0m\u001b[1;33m\u001b[0m\u001b[0m\n",
      "\u001b[1;32mC:\\ProgramData\\Anaconda3\\lib\\site-packages\\pandas\\core\\internals.py\u001b[0m in \u001b[0;36mget\u001b[1;34m(self, item, fastpath)\u001b[0m\n\u001b[0;32m   4113\u001b[0m \u001b[1;33m\u001b[0m\u001b[0m\n\u001b[0;32m   4114\u001b[0m             \u001b[1;32mif\u001b[0m \u001b[1;32mnot\u001b[0m \u001b[0misna\u001b[0m\u001b[1;33m(\u001b[0m\u001b[0mitem\u001b[0m\u001b[1;33m)\u001b[0m\u001b[1;33m:\u001b[0m\u001b[1;33m\u001b[0m\u001b[0m\n\u001b[1;32m-> 4115\u001b[1;33m                 \u001b[0mloc\u001b[0m \u001b[1;33m=\u001b[0m \u001b[0mself\u001b[0m\u001b[1;33m.\u001b[0m\u001b[0mitems\u001b[0m\u001b[1;33m.\u001b[0m\u001b[0mget_loc\u001b[0m\u001b[1;33m(\u001b[0m\u001b[0mitem\u001b[0m\u001b[1;33m)\u001b[0m\u001b[1;33m\u001b[0m\u001b[0m\n\u001b[0m\u001b[0;32m   4116\u001b[0m             \u001b[1;32melse\u001b[0m\u001b[1;33m:\u001b[0m\u001b[1;33m\u001b[0m\u001b[0m\n\u001b[0;32m   4117\u001b[0m                 \u001b[0mindexer\u001b[0m \u001b[1;33m=\u001b[0m \u001b[0mnp\u001b[0m\u001b[1;33m.\u001b[0m\u001b[0marange\u001b[0m\u001b[1;33m(\u001b[0m\u001b[0mlen\u001b[0m\u001b[1;33m(\u001b[0m\u001b[0mself\u001b[0m\u001b[1;33m.\u001b[0m\u001b[0mitems\u001b[0m\u001b[1;33m)\u001b[0m\u001b[1;33m)\u001b[0m\u001b[1;33m[\u001b[0m\u001b[0misna\u001b[0m\u001b[1;33m(\u001b[0m\u001b[0mself\u001b[0m\u001b[1;33m.\u001b[0m\u001b[0mitems\u001b[0m\u001b[1;33m)\u001b[0m\u001b[1;33m]\u001b[0m\u001b[1;33m\u001b[0m\u001b[0m\n",
      "\u001b[1;32mC:\\ProgramData\\Anaconda3\\lib\\site-packages\\pandas\\core\\indexes\\base.py\u001b[0m in \u001b[0;36mget_loc\u001b[1;34m(self, key, method, tolerance)\u001b[0m\n\u001b[0;32m   3078\u001b[0m                 \u001b[1;32mreturn\u001b[0m \u001b[0mself\u001b[0m\u001b[1;33m.\u001b[0m\u001b[0m_engine\u001b[0m\u001b[1;33m.\u001b[0m\u001b[0mget_loc\u001b[0m\u001b[1;33m(\u001b[0m\u001b[0mkey\u001b[0m\u001b[1;33m)\u001b[0m\u001b[1;33m\u001b[0m\u001b[0m\n\u001b[0;32m   3079\u001b[0m             \u001b[1;32mexcept\u001b[0m \u001b[0mKeyError\u001b[0m\u001b[1;33m:\u001b[0m\u001b[1;33m\u001b[0m\u001b[0m\n\u001b[1;32m-> 3080\u001b[1;33m                 \u001b[1;32mreturn\u001b[0m \u001b[0mself\u001b[0m\u001b[1;33m.\u001b[0m\u001b[0m_engine\u001b[0m\u001b[1;33m.\u001b[0m\u001b[0mget_loc\u001b[0m\u001b[1;33m(\u001b[0m\u001b[0mself\u001b[0m\u001b[1;33m.\u001b[0m\u001b[0m_maybe_cast_indexer\u001b[0m\u001b[1;33m(\u001b[0m\u001b[0mkey\u001b[0m\u001b[1;33m)\u001b[0m\u001b[1;33m)\u001b[0m\u001b[1;33m\u001b[0m\u001b[0m\n\u001b[0m\u001b[0;32m   3081\u001b[0m \u001b[1;33m\u001b[0m\u001b[0m\n\u001b[0;32m   3082\u001b[0m         \u001b[0mindexer\u001b[0m \u001b[1;33m=\u001b[0m \u001b[0mself\u001b[0m\u001b[1;33m.\u001b[0m\u001b[0mget_indexer\u001b[0m\u001b[1;33m(\u001b[0m\u001b[1;33m[\u001b[0m\u001b[0mkey\u001b[0m\u001b[1;33m]\u001b[0m\u001b[1;33m,\u001b[0m \u001b[0mmethod\u001b[0m\u001b[1;33m=\u001b[0m\u001b[0mmethod\u001b[0m\u001b[1;33m,\u001b[0m \u001b[0mtolerance\u001b[0m\u001b[1;33m=\u001b[0m\u001b[0mtolerance\u001b[0m\u001b[1;33m)\u001b[0m\u001b[1;33m\u001b[0m\u001b[0m\n",
      "\u001b[1;32mpandas\\_libs\\index.pyx\u001b[0m in \u001b[0;36mpandas._libs.index.IndexEngine.get_loc\u001b[1;34m()\u001b[0m\n",
      "\u001b[1;32mpandas\\_libs\\index.pyx\u001b[0m in \u001b[0;36mpandas._libs.index.IndexEngine.get_loc\u001b[1;34m()\u001b[0m\n",
      "\u001b[1;32mpandas\\_libs\\hashtable_class_helper.pxi\u001b[0m in \u001b[0;36mpandas._libs.hashtable.PyObjectHashTable.get_item\u001b[1;34m()\u001b[0m\n",
      "\u001b[1;32mpandas\\_libs\\hashtable_class_helper.pxi\u001b[0m in \u001b[0;36mpandas._libs.hashtable.PyObjectHashTable.get_item\u001b[1;34m()\u001b[0m\n",
      "\u001b[1;31mKeyError\u001b[0m: ('A', 'X')"
     ]
    }
   ],
   "source": [
    "df['A','X']"
   ]
  },
  {
   "cell_type": "code",
   "execution_count": 81,
   "metadata": {},
   "outputs": [
    {
     "data": {
      "text/plain": [
       "A   -0.239375\n",
       "B    0.950554\n",
       "C    0.353932\n",
       "X    0.021982\n",
       "Y   -0.013600\n",
       "Name: 2012-06-04 00:00:00, dtype: float64"
      ]
     },
     "execution_count": 81,
     "metadata": {},
     "output_type": "execute_result"
    }
   ],
   "source": [
    "df.loc[dates[0]]"
   ]
  },
  {
   "cell_type": "code",
   "execution_count": 82,
   "metadata": {},
   "outputs": [
    {
     "data": {
      "text/html": [
       "<div>\n",
       "<style scoped>\n",
       "    .dataframe tbody tr th:only-of-type {\n",
       "        vertical-align: middle;\n",
       "    }\n",
       "\n",
       "    .dataframe tbody tr th {\n",
       "        vertical-align: top;\n",
       "    }\n",
       "\n",
       "    .dataframe thead th {\n",
       "        text-align: right;\n",
       "    }\n",
       "</style>\n",
       "<table border=\"1\" class=\"dataframe\">\n",
       "  <thead>\n",
       "    <tr style=\"text-align: right;\">\n",
       "      <th></th>\n",
       "      <th>A</th>\n",
       "      <th>B</th>\n",
       "    </tr>\n",
       "  </thead>\n",
       "  <tbody>\n",
       "    <tr>\n",
       "      <th>2012-06-04</th>\n",
       "      <td>-0.239375</td>\n",
       "      <td>0.950554</td>\n",
       "    </tr>\n",
       "    <tr>\n",
       "      <th>2012-06-05</th>\n",
       "      <td>-2.462406</td>\n",
       "      <td>1.042718</td>\n",
       "    </tr>\n",
       "    <tr>\n",
       "      <th>2012-06-06</th>\n",
       "      <td>-0.717430</td>\n",
       "      <td>0.953287</td>\n",
       "    </tr>\n",
       "    <tr>\n",
       "      <th>2012-06-07</th>\n",
       "      <td>0.848421</td>\n",
       "      <td>-0.769418</td>\n",
       "    </tr>\n",
       "    <tr>\n",
       "      <th>2012-06-08</th>\n",
       "      <td>-0.548329</td>\n",
       "      <td>-0.057132</td>\n",
       "    </tr>\n",
       "    <tr>\n",
       "      <th>2012-06-09</th>\n",
       "      <td>-0.629890</td>\n",
       "      <td>0.712299</td>\n",
       "    </tr>\n",
       "    <tr>\n",
       "      <th>2012-06-10</th>\n",
       "      <td>0.474037</td>\n",
       "      <td>-0.034130</td>\n",
       "    </tr>\n",
       "    <tr>\n",
       "      <th>2012-06-11</th>\n",
       "      <td>-0.899504</td>\n",
       "      <td>-1.285180</td>\n",
       "    </tr>\n",
       "    <tr>\n",
       "      <th>2012-06-12</th>\n",
       "      <td>0.471836</td>\n",
       "      <td>0.324206</td>\n",
       "    </tr>\n",
       "    <tr>\n",
       "      <th>2012-06-13</th>\n",
       "      <td>-2.343007</td>\n",
       "      <td>0.614863</td>\n",
       "    </tr>\n",
       "  </tbody>\n",
       "</table>\n",
       "</div>"
      ],
      "text/plain": [
       "                   A         B\n",
       "2012-06-04 -0.239375  0.950554\n",
       "2012-06-05 -2.462406  1.042718\n",
       "2012-06-06 -0.717430  0.953287\n",
       "2012-06-07  0.848421 -0.769418\n",
       "2012-06-08 -0.548329 -0.057132\n",
       "2012-06-09 -0.629890  0.712299\n",
       "2012-06-10  0.474037 -0.034130\n",
       "2012-06-11 -0.899504 -1.285180\n",
       "2012-06-12  0.471836  0.324206\n",
       "2012-06-13 -2.343007  0.614863"
      ]
     },
     "execution_count": 82,
     "metadata": {},
     "output_type": "execute_result"
    }
   ],
   "source": [
    "df.loc[:,['A','B']]"
   ]
  },
  {
   "cell_type": "code",
   "execution_count": 83,
   "metadata": {},
   "outputs": [
    {
     "data": {
      "text/html": [
       "<div>\n",
       "<style scoped>\n",
       "    .dataframe tbody tr th:only-of-type {\n",
       "        vertical-align: middle;\n",
       "    }\n",
       "\n",
       "    .dataframe tbody tr th {\n",
       "        vertical-align: top;\n",
       "    }\n",
       "\n",
       "    .dataframe thead th {\n",
       "        text-align: right;\n",
       "    }\n",
       "</style>\n",
       "<table border=\"1\" class=\"dataframe\">\n",
       "  <thead>\n",
       "    <tr style=\"text-align: right;\">\n",
       "      <th></th>\n",
       "      <th>A</th>\n",
       "      <th>B</th>\n",
       "      <th>C</th>\n",
       "      <th>X</th>\n",
       "      <th>Y</th>\n",
       "    </tr>\n",
       "  </thead>\n",
       "  <tbody>\n",
       "    <tr>\n",
       "      <th>2012-06-07</th>\n",
       "      <td>0.848421</td>\n",
       "      <td>-0.769418</td>\n",
       "      <td>1.633854</td>\n",
       "      <td>0.651321</td>\n",
       "      <td>0.402359</td>\n",
       "    </tr>\n",
       "    <tr>\n",
       "      <th>2012-06-10</th>\n",
       "      <td>0.474037</td>\n",
       "      <td>-0.034130</td>\n",
       "      <td>-0.395654</td>\n",
       "      <td>0.212628</td>\n",
       "      <td>0.509765</td>\n",
       "    </tr>\n",
       "    <tr>\n",
       "      <th>2012-06-12</th>\n",
       "      <td>0.471836</td>\n",
       "      <td>0.324206</td>\n",
       "      <td>-0.148179</td>\n",
       "      <td>-0.653518</td>\n",
       "      <td>-0.868810</td>\n",
       "    </tr>\n",
       "  </tbody>\n",
       "</table>\n",
       "</div>"
      ],
      "text/plain": [
       "                   A         B         C         X         Y\n",
       "2012-06-07  0.848421 -0.769418  1.633854  0.651321  0.402359\n",
       "2012-06-10  0.474037 -0.034130 -0.395654  0.212628  0.509765\n",
       "2012-06-12  0.471836  0.324206 -0.148179 -0.653518 -0.868810"
      ]
     },
     "execution_count": 83,
     "metadata": {},
     "output_type": "execute_result"
    }
   ],
   "source": [
    "df[df.A>0]"
   ]
  },
  {
   "cell_type": "code",
   "execution_count": 84,
   "metadata": {},
   "outputs": [
    {
     "data": {
      "text/plain": [
       "2012-06-04    0.214698\n",
       "2012-06-05   -0.701387\n",
       "2012-06-06   -0.070011\n",
       "2012-06-07    0.553307\n",
       "2012-06-08   -0.688608\n",
       "2012-06-09   -0.265233\n",
       "2012-06-10    0.153329\n",
       "2012-06-11   -0.466288\n",
       "2012-06-12   -0.174893\n",
       "2012-06-13    0.167139\n",
       "Freq: D, dtype: float64"
      ]
     },
     "execution_count": 84,
     "metadata": {},
     "output_type": "execute_result"
    }
   ],
   "source": [
    "df.mean(1)"
   ]
  },
  {
   "cell_type": "code",
   "execution_count": 85,
   "metadata": {},
   "outputs": [
    {
     "data": {
      "text/html": [
       "<div>\n",
       "<style scoped>\n",
       "    .dataframe tbody tr th:only-of-type {\n",
       "        vertical-align: middle;\n",
       "    }\n",
       "\n",
       "    .dataframe tbody tr th {\n",
       "        vertical-align: top;\n",
       "    }\n",
       "\n",
       "    .dataframe thead th {\n",
       "        text-align: right;\n",
       "    }\n",
       "</style>\n",
       "<table border=\"1\" class=\"dataframe\">\n",
       "  <thead>\n",
       "    <tr style=\"text-align: right;\">\n",
       "      <th></th>\n",
       "      <th>A</th>\n",
       "      <th>B</th>\n",
       "      <th>C</th>\n",
       "      <th>X</th>\n",
       "      <th>Y</th>\n",
       "    </tr>\n",
       "  </thead>\n",
       "  <tbody>\n",
       "    <tr>\n",
       "      <th>2012-06-04</th>\n",
       "      <td>-0.239375</td>\n",
       "      <td>0.950554</td>\n",
       "      <td>0.353932</td>\n",
       "      <td>0.021982</td>\n",
       "      <td>-0.013600</td>\n",
       "    </tr>\n",
       "    <tr>\n",
       "      <th>2012-06-05</th>\n",
       "      <td>-2.462406</td>\n",
       "      <td>1.042718</td>\n",
       "      <td>-0.546554</td>\n",
       "      <td>-0.237367</td>\n",
       "      <td>-1.303326</td>\n",
       "    </tr>\n",
       "    <tr>\n",
       "      <th>2012-06-06</th>\n",
       "      <td>-0.717430</td>\n",
       "      <td>0.953287</td>\n",
       "      <td>0.388315</td>\n",
       "      <td>0.134076</td>\n",
       "      <td>-1.108302</td>\n",
       "    </tr>\n",
       "    <tr>\n",
       "      <th>2012-06-07</th>\n",
       "      <td>0.848421</td>\n",
       "      <td>-0.769418</td>\n",
       "      <td>1.633854</td>\n",
       "      <td>0.651321</td>\n",
       "      <td>0.402359</td>\n",
       "    </tr>\n",
       "    <tr>\n",
       "      <th>2012-06-08</th>\n",
       "      <td>-0.548329</td>\n",
       "      <td>-0.057132</td>\n",
       "      <td>-0.984499</td>\n",
       "      <td>-1.142881</td>\n",
       "      <td>-0.710199</td>\n",
       "    </tr>\n",
       "    <tr>\n",
       "      <th>2012-06-09</th>\n",
       "      <td>-0.629890</td>\n",
       "      <td>0.712299</td>\n",
       "      <td>-1.755329</td>\n",
       "      <td>1.283158</td>\n",
       "      <td>-0.936403</td>\n",
       "    </tr>\n",
       "    <tr>\n",
       "      <th>2012-06-10</th>\n",
       "      <td>0.474037</td>\n",
       "      <td>-0.034130</td>\n",
       "      <td>-0.395654</td>\n",
       "      <td>0.212628</td>\n",
       "      <td>0.509765</td>\n",
       "    </tr>\n",
       "    <tr>\n",
       "      <th>2012-06-11</th>\n",
       "      <td>-0.899504</td>\n",
       "      <td>-1.285180</td>\n",
       "      <td>-0.362115</td>\n",
       "      <td>0.227139</td>\n",
       "      <td>-0.011783</td>\n",
       "    </tr>\n",
       "    <tr>\n",
       "      <th>2012-06-12</th>\n",
       "      <td>0.471836</td>\n",
       "      <td>0.324206</td>\n",
       "      <td>-0.148179</td>\n",
       "      <td>-0.653518</td>\n",
       "      <td>-0.868810</td>\n",
       "    </tr>\n",
       "    <tr>\n",
       "      <th>2012-06-13</th>\n",
       "      <td>-2.343007</td>\n",
       "      <td>0.614863</td>\n",
       "      <td>1.777752</td>\n",
       "      <td>1.290481</td>\n",
       "      <td>-0.504394</td>\n",
       "    </tr>\n",
       "  </tbody>\n",
       "</table>\n",
       "</div>"
      ],
      "text/plain": [
       "                   A         B         C         X         Y\n",
       "2012-06-04 -0.239375  0.950554  0.353932  0.021982 -0.013600\n",
       "2012-06-05 -2.462406  1.042718 -0.546554 -0.237367 -1.303326\n",
       "2012-06-06 -0.717430  0.953287  0.388315  0.134076 -1.108302\n",
       "2012-06-07  0.848421 -0.769418  1.633854  0.651321  0.402359\n",
       "2012-06-08 -0.548329 -0.057132 -0.984499 -1.142881 -0.710199\n",
       "2012-06-09 -0.629890  0.712299 -1.755329  1.283158 -0.936403\n",
       "2012-06-10  0.474037 -0.034130 -0.395654  0.212628  0.509765\n",
       "2012-06-11 -0.899504 -1.285180 -0.362115  0.227139 -0.011783\n",
       "2012-06-12  0.471836  0.324206 -0.148179 -0.653518 -0.868810\n",
       "2012-06-13 -2.343007  0.614863  1.777752  1.290481 -0.504394"
      ]
     },
     "execution_count": 85,
     "metadata": {},
     "output_type": "execute_result"
    }
   ],
   "source": [
    "df"
   ]
  },
  {
   "cell_type": "code",
   "execution_count": 86,
   "metadata": {},
   "outputs": [],
   "source": [
    "df1=pd.DataFrame(np.random.randn(10,2),index=dates,columns=list('QW'))"
   ]
  },
  {
   "cell_type": "code",
   "execution_count": 87,
   "metadata": {},
   "outputs": [
    {
     "data": {
      "text/html": [
       "<div>\n",
       "<style scoped>\n",
       "    .dataframe tbody tr th:only-of-type {\n",
       "        vertical-align: middle;\n",
       "    }\n",
       "\n",
       "    .dataframe tbody tr th {\n",
       "        vertical-align: top;\n",
       "    }\n",
       "\n",
       "    .dataframe thead th {\n",
       "        text-align: right;\n",
       "    }\n",
       "</style>\n",
       "<table border=\"1\" class=\"dataframe\">\n",
       "  <thead>\n",
       "    <tr style=\"text-align: right;\">\n",
       "      <th></th>\n",
       "      <th>Q</th>\n",
       "      <th>W</th>\n",
       "    </tr>\n",
       "  </thead>\n",
       "  <tbody>\n",
       "    <tr>\n",
       "      <th>2012-06-04</th>\n",
       "      <td>-1.389379</td>\n",
       "      <td>-0.922189</td>\n",
       "    </tr>\n",
       "    <tr>\n",
       "      <th>2012-06-05</th>\n",
       "      <td>-0.854357</td>\n",
       "      <td>0.271857</td>\n",
       "    </tr>\n",
       "    <tr>\n",
       "      <th>2012-06-06</th>\n",
       "      <td>-1.171707</td>\n",
       "      <td>-1.778804</td>\n",
       "    </tr>\n",
       "    <tr>\n",
       "      <th>2012-06-07</th>\n",
       "      <td>-1.645761</td>\n",
       "      <td>0.941408</td>\n",
       "    </tr>\n",
       "    <tr>\n",
       "      <th>2012-06-08</th>\n",
       "      <td>-1.187258</td>\n",
       "      <td>0.681441</td>\n",
       "    </tr>\n",
       "    <tr>\n",
       "      <th>2012-06-09</th>\n",
       "      <td>-0.885200</td>\n",
       "      <td>-0.742221</td>\n",
       "    </tr>\n",
       "    <tr>\n",
       "      <th>2012-06-10</th>\n",
       "      <td>-0.557885</td>\n",
       "      <td>-0.242003</td>\n",
       "    </tr>\n",
       "    <tr>\n",
       "      <th>2012-06-11</th>\n",
       "      <td>1.275293</td>\n",
       "      <td>1.270808</td>\n",
       "    </tr>\n",
       "    <tr>\n",
       "      <th>2012-06-12</th>\n",
       "      <td>-1.365632</td>\n",
       "      <td>0.107045</td>\n",
       "    </tr>\n",
       "    <tr>\n",
       "      <th>2012-06-13</th>\n",
       "      <td>2.353913</td>\n",
       "      <td>1.110761</td>\n",
       "    </tr>\n",
       "  </tbody>\n",
       "</table>\n",
       "</div>"
      ],
      "text/plain": [
       "                   Q         W\n",
       "2012-06-04 -1.389379 -0.922189\n",
       "2012-06-05 -0.854357  0.271857\n",
       "2012-06-06 -1.171707 -1.778804\n",
       "2012-06-07 -1.645761  0.941408\n",
       "2012-06-08 -1.187258  0.681441\n",
       "2012-06-09 -0.885200 -0.742221\n",
       "2012-06-10 -0.557885 -0.242003\n",
       "2012-06-11  1.275293  1.270808\n",
       "2012-06-12 -1.365632  0.107045\n",
       "2012-06-13  2.353913  1.110761"
      ]
     },
     "execution_count": 87,
     "metadata": {},
     "output_type": "execute_result"
    }
   ],
   "source": [
    "df1"
   ]
  },
  {
   "cell_type": "code",
   "execution_count": 88,
   "metadata": {},
   "outputs": [],
   "source": [
    "import matplotlib as plt"
   ]
  },
  {
   "cell_type": "code",
   "execution_count": 89,
   "metadata": {},
   "outputs": [
    {
     "data": {
      "text/plain": [
       "False"
      ]
     },
     "execution_count": 89,
     "metadata": {},
     "output_type": "execute_result"
    }
   ],
   "source": [
    "a=20\n",
    "x=  all(np.arange  (50) )\n",
    "x"
   ]
  },
  {
   "cell_type": "code",
   "execution_count": 92,
   "metadata": {},
   "outputs": [
    {
     "ename": "NameError",
     "evalue": "name 'on' is not defined",
     "output_type": "error",
     "traceback": [
      "\u001b[1;31m---------------------------------------------------------------------------\u001b[0m",
      "\u001b[1;31mNameError\u001b[0m                                 Traceback (most recent call last)",
      "\u001b[1;32m<ipython-input-92-f79a7783ba29>\u001b[0m in \u001b[0;36m<module>\u001b[1;34m()\u001b[0m\n\u001b[1;32m----> 1\u001b[1;33m \u001b[0mdf2\u001b[0m\u001b[1;33m=\u001b[0m\u001b[0mpd\u001b[0m\u001b[1;33m.\u001b[0m\u001b[0mmerge\u001b[0m\u001b[1;33m(\u001b[0m\u001b[0mdf\u001b[0m\u001b[1;33m,\u001b[0m\u001b[0mdf1\u001b[0m\u001b[1;33m,\u001b[0m\u001b[0mon\u001b[0m  \u001b[1;33m)\u001b[0m\u001b[1;33m\u001b[0m\u001b[0m\n\u001b[0m",
      "\u001b[1;31mNameError\u001b[0m: name 'on' is not defined"
     ]
    }
   ],
   "source": [
    "df2=pd.merge(df,df1,on  )"
   ]
  },
  {
   "cell_type": "code",
   "execution_count": 93,
   "metadata": {},
   "outputs": [],
   "source": [
    "from matplotlib import figure"
   ]
  },
  {
   "cell_type": "code",
   "execution_count": 134,
   "metadata": {},
   "outputs": [
    {
     "data": {
      "text/plain": [
       "<Figure size 432x288 with 0 Axes>"
      ]
     },
     "metadata": {},
     "output_type": "display_data"
    },
    {
     "data": {
      "image/png": "[encoded data removed]",
      "text/plain": [
       "<Figure size 432x288 with 4 Axes>"
      ]
     },
     "metadata": {
      "needs_background": "light"
     },
     "output_type": "display_data"
    }
   ],
   "source": [
    "fig = plt.figure()\n",
    "fig.suptitle('empty')\n",
    "fig, ax_lst= plt.subplots(2,2)"
   ]
  },
  {
   "cell_type": "code",
   "execution_count": 135,
   "metadata": {},
   "outputs": [
    {
     "data": {
      "text/plain": [
       "array([2.  , 2.25, 2.5 , 2.75, 3.  ])"
      ]
     },
     "execution_count": 135,
     "metadata": {},
     "output_type": "execute_result"
    }
   ],
   "source": [
    "np.linspace(2.0, 3.0, num=5)"
   ]
  },
  {
   "cell_type": "code",
   "execution_count": 136,
   "metadata": {},
   "outputs": [],
   "source": [
    "N=8\n",
    "x1 = np.linspace(0, 10,num=6 , endpoint=True,dtype=int) \n"
   ]
  },
  {
   "cell_type": "code",
   "execution_count": 137,
   "metadata": {},
   "outputs": [
    {
     "data": {
      "text/plain": [
       "array([ 0,  2,  4,  6,  8, 10])"
      ]
     },
     "execution_count": 137,
     "metadata": {},
     "output_type": "execute_result"
    }
   ],
   "source": [
    "x1"
   ]
  },
  {
   "cell_type": "code",
   "execution_count": 138,
   "metadata": {},
   "outputs": [],
   "source": [
    "import matplotlib as plt\n",
    "import matplotlib.pyplot as plt \n"
   ]
  },
  {
   "cell_type": "code",
   "execution_count": 139,
   "metadata": {},
   "outputs": [
    {
     "data": {
      "text/plain": [
       "array([0.        , 0.06122449, 0.12244898, 0.18367347, 0.24489796,\n",
       "       0.30612245, 0.36734694, 0.42857143, 0.48979592, 0.55102041,\n",
       "       0.6122449 , 0.67346939, 0.73469388, 0.79591837, 0.85714286,\n",
       "       0.91836735, 0.97959184, 1.04081633, 1.10204082, 1.16326531,\n",
       "       1.2244898 , 1.28571429, 1.34693878, 1.40816327, 1.46938776,\n",
       "       1.53061224, 1.59183673, 1.65306122, 1.71428571, 1.7755102 ,\n",
       "       1.83673469, 1.89795918, 1.95918367, 2.02040816, 2.08163265,\n",
       "       2.14285714, 2.20408163, 2.26530612, 2.32653061, 2.3877551 ,\n",
       "       2.44897959, 2.51020408, 2.57142857, 2.63265306, 2.69387755,\n",
       "       2.75510204, 2.81632653, 2.87755102, 2.93877551, 3.        ])"
      ]
     },
     "execution_count": 139,
     "metadata": {},
     "output_type": "execute_result"
    }
   ],
   "source": [
    "x = np.linspace(0,2.50)\n",
    "x\n",
    "y=np.linspace(0,3,50)\n",
    "y"
   ]
  },
  {
   "cell_type": "code",
   "execution_count": 140,
   "metadata": {},
   "outputs": [
    {
     "data": {
      "text/plain": [
       "<matplotlib.legend.Legend at 0x23c8320b518>"
      ]
     },
     "execution_count": 140,
     "metadata": {},
     "output_type": "execute_result"
    },
    {
     "data": {
      "image/png": "[encoded data removed]",
      "text/plain": [
       "<Figure size 432x288 with 1 Axes>"
      ]
     },
     "metadata": {
      "needs_background": "light"
     },
     "output_type": "display_data"
    }
   ],
   "source": [
    "plt.plot(x,x,label='linear')\n",
    "plt.plot(x,x**2,label='quad')\n",
    "plt.plot(x,x**3,label='cubic')\n",
    "plt.plot(y,y,label='y-linear')\n",
    "plt.xlabel('x - l')\n",
    "plt.ylabel('y - l')\n",
    "plt.legend()"
   ]
  },
  {
   "cell_type": "code",
   "execution_count": 141,
   "metadata": {},
   "outputs": [
    {
     "data": {
      "image/png": "[encoded data removed]",
      "text/plain": [
       "<Figure size 432x288 with 1 Axes>"
      ]
     },
     "metadata": {
      "needs_background": "light"
     },
     "output_type": "display_data"
    }
   ],
   "source": [
    "data = {'a': np.arange(50),\n",
    "        'c': np.random.randint(0, 50, 50),\n",
    "        'd': np.random.randn(50)}\n",
    "data['b'] = data['a'] + 10 * np.random.randn(50)\n",
    "data['d'] = np.abs(data['d']) * 100\n",
    "\n",
    "plt.scatter('a', 'b', c='c', s='d', data=data)\n",
    "plt.xlabel('entry a')\n",
    "plt.ylabel('entry b')\n",
    "plt.legend()\n",
    "plt.show()"
   ]
  },
  {
   "cell_type": "code",
   "execution_count": 142,
   "metadata": {},
   "outputs": [],
   "source": [
    "m=np.random.randint(0,5,100)\n",
    "n=np.arange(100)\n"
   ]
  },
  {
   "cell_type": "code",
   "execution_count": 143,
   "metadata": {},
   "outputs": [
    {
     "data": {
      "text/plain": [
       "<matplotlib.collections.PathCollection at 0x23c83477588>"
      ]
     },
     "execution_count": 143,
     "metadata": {},
     "output_type": "execute_result"
    },
    {
     "data": {
      "image/png": "[encoded data removed]",
      "text/plain": [
       "<Figure size 432x288 with 1 Axes>"
      ]
     },
     "metadata": {
      "needs_background": "light"
     },
     "output_type": "display_data"
    }
   ],
   "source": [
    "n=np.random.randint(0,10,100)\n",
    "\n",
    "plt.scatter(n,m)"
   ]
  },
  {
   "cell_type": "code",
   "execution_count": 144,
   "metadata": {},
   "outputs": [
    {
     "ename": "SyntaxError",
     "evalue": "invalid syntax (<ipython-input-144-5ee97c8725e5>, line 1)",
     "output_type": "error",
     "traceback": [
      "\u001b[1;36m  File \u001b[1;32m\"<ipython-input-144-5ee97c8725e5>\"\u001b[1;36m, line \u001b[1;32m1\u001b[0m\n\u001b[1;33m    plot([1:5],[5:10])\u001b[0m\n\u001b[1;37m           ^\u001b[0m\n\u001b[1;31mSyntaxError\u001b[0m\u001b[1;31m:\u001b[0m invalid syntax\n"
     ]
    }
   ],
   "source": [
    "plot([1:5],[5:10])"
   ]
  },
  {
   "cell_type": "code",
   "execution_count": 146,
   "metadata": {},
   "outputs": [
    {
     "data": {
      "image/png": "[encoded data removed]",
      "text/plain": [
       "<Figure size 432x288 with 1 Axes>"
      ]
     },
     "metadata": {
      "needs_background": "light"
     },
     "output_type": "display_data"
    }
   ],
   "source": [
    "plt.plot([1,5,10,20],[1,4,8,12])\n",
    "plt.show()"
   ]
  },
  {
   "cell_type": "code",
   "execution_count": null,
   "metadata": {},
   "outputs": [],
   "source": []
  },
  {
   "cell_type": "code",
   "execution_count": null,
   "metadata": {},
   "outputs": [],
   "source": []
  }
 ],
 "metadata": {
  "kernelspec": {
   "display_name": "Python 3",
   "language": "python",
   "name": "python3"
  },
  "language_info": {
   "codemirror_mode": {
    "name": "ipython",
    "version": 3
   },
   "file_extension": ".py",
   "mimetype": "text/x-python",
   "name": "python",
   "nbconvert_exporter": "python",
   "pygments_lexer": "ipython3",
   "version": "3.7.0"
  }
 },
 "nbformat": 4,
 "nbformat_minor": 2
}
