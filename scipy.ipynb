{
 "cells": [
  {
   "cell_type": "code",
   "execution_count": 1,
   "metadata": {},
   "outputs": [],
   "source": [
    "#Scipy usage and examples\n"
   ]
  },
  {
   "cell_type": "code",
   "execution_count": 5,
   "metadata": {},
   "outputs": [],
   "source": [
    "import pandas as pd\n",
    "import numpy as np\n",
    "import matplotlib.pyplot as plt\n",
    "import seaborn as sns\n"
   ]
  },
  {
   "cell_type": "code",
   "execution_count": 6,
   "metadata": {},
   "outputs": [
    {
     "data": {
      "text/plain": [
       "array([[[0, 0, 0, 0, 0],\n",
       "        [1, 1, 1, 1, 1],\n",
       "        [2, 2, 2, 2, 2]],\n",
       "\n",
       "       [[0, 1, 2, 3, 4],\n",
       "        [0, 1, 2, 3, 4],\n",
       "        [0, 1, 2, 3, 4]]])"
      ]
     },
     "execution_count": 6,
     "metadata": {},
     "output_type": "execute_result"
    }
   ],
   "source": [
    "np.mgrid[0:3,0:5]"
   ]
  },
  {
   "cell_type": "code",
   "execution_count": 7,
   "metadata": {},
   "outputs": [
    {
     "data": {
      "text/plain": [
       "array([[[0.   , 0.   , 0.   , 0.   , 0.   , 0.   , 0.   ],\n",
       "        [0.625, 0.625, 0.625, 0.625, 0.625, 0.625, 0.625],\n",
       "        [1.25 , 1.25 , 1.25 , 1.25 , 1.25 , 1.25 , 1.25 ],\n",
       "        [1.875, 1.875, 1.875, 1.875, 1.875, 1.875, 1.875],\n",
       "        [2.5  , 2.5  , 2.5  , 2.5  , 2.5  , 2.5  , 2.5  ],\n",
       "        [3.125, 3.125, 3.125, 3.125, 3.125, 3.125, 3.125],\n",
       "        [3.75 , 3.75 , 3.75 , 3.75 , 3.75 , 3.75 , 3.75 ],\n",
       "        [4.375, 4.375, 4.375, 4.375, 4.375, 4.375, 4.375],\n",
       "        [5.   , 5.   , 5.   , 5.   , 5.   , 5.   , 5.   ]],\n",
       "\n",
       "       [[0.   , 1.   , 2.   , 3.   , 4.   , 5.   , 6.   ],\n",
       "        [0.   , 1.   , 2.   , 3.   , 4.   , 5.   , 6.   ],\n",
       "        [0.   , 1.   , 2.   , 3.   , 4.   , 5.   , 6.   ],\n",
       "        [0.   , 1.   , 2.   , 3.   , 4.   , 5.   , 6.   ],\n",
       "        [0.   , 1.   , 2.   , 3.   , 4.   , 5.   , 6.   ],\n",
       "        [0.   , 1.   , 2.   , 3.   , 4.   , 5.   , 6.   ],\n",
       "        [0.   , 1.   , 2.   , 3.   , 4.   , 5.   , 6.   ],\n",
       "        [0.   , 1.   , 2.   , 3.   , 4.   , 5.   , 6.   ],\n",
       "        [0.   , 1.   , 2.   , 3.   , 4.   , 5.   , 6.   ]]])"
      ]
     },
     "execution_count": 7,
     "metadata": {},
     "output_type": "execute_result"
    }
   ],
   "source": [
    "np.mgrid[0:5:9j,0:6:7j]"
   ]
  },
  {
   "cell_type": "code",
   "execution_count": null,
   "metadata": {},
   "outputs": [],
   "source": [
    "#polynomials"
   ]
  },
  {
   "cell_type": "code",
   "execution_count": 11,
   "metadata": {},
   "outputs": [],
   "source": [
    "from numpy import poly1d"
   ]
  },
  {
   "cell_type": "code",
   "execution_count": 13,
   "metadata": {},
   "outputs": [],
   "source": [
    "p=poly1d([2,6,7])"
   ]
  },
  {
   "cell_type": "code",
   "execution_count": 15,
   "metadata": {},
   "outputs": [
    {
     "name": "stdout",
     "output_type": "stream",
     "text": [
      "   2\n",
      "2 x + 6 x + 7\n"
     ]
    }
   ],
   "source": [
    "print(p)"
   ]
  },
  {
   "cell_type": "code",
   "execution_count": 16,
   "metadata": {},
   "outputs": [
    {
     "name": "stdout",
     "output_type": "stream",
     "text": [
      "   4      3      2\n",
      "4 x + 24 x + 64 x + 84 x + 49\n",
      "        3     2\n",
      "0.6667 x + 3 x + 7 x + 9\n",
      " \n",
      "4 x + 6\n"
     ]
    },
    {
     "data": {
      "text/plain": [
       "array([63,  7])"
      ]
     },
     "execution_count": 16,
     "metadata": {},
     "output_type": "execute_result"
    }
   ],
   "source": [
    "print(p*p)\n",
    "print(p.integ(k=9))\n",
    "print(p.deriv())\n",
    "p([4,0])"
   ]
  },
  {
   "cell_type": "code",
   "execution_count": 17,
   "metadata": {},
   "outputs": [],
   "source": [
    "#vectorize\n"
   ]
  },
  {
   "cell_type": "code",
   "execution_count": 35,
   "metadata": {},
   "outputs": [],
   "source": [
    "def x(a,b):\n",
    "    if a > b:\n",
    "        return a - b\n",
    "    else:\n",
    "        return a + b"
   ]
  },
  {
   "cell_type": "code",
   "execution_count": 36,
   "metadata": {},
   "outputs": [],
   "source": [
    "vec_x= np.vectorize(x)"
   ]
  },
  {
   "cell_type": "code",
   "execution_count": 37,
   "metadata": {},
   "outputs": [
    {
     "data": {
      "text/plain": [
       "array([10,  1,  8])"
      ]
     },
     "execution_count": 37,
     "metadata": {},
     "output_type": "execute_result"
    }
   ],
   "source": [
    "vec_x([1,4,9],[9,3,1])"
   ]
  },
  {
   "cell_type": "code",
   "execution_count": null,
   "metadata": {},
   "outputs": [],
   "source": []
  }
 ],
 "metadata": {
  "kernelspec": {
   "display_name": "Python 3",
   "language": "python",
   "name": "python3"
  },
  "language_info": {
   "codemirror_mode": {
    "name": "ipython",
    "version": 3
   },
   "file_extension": ".py",
   "mimetype": "text/x-python",
   "name": "python",
   "nbconvert_exporter": "python",
   "pygments_lexer": "ipython3",
   "version": "3.7.0"
  }
 },
 "nbformat": 4,
 "nbformat_minor": 2
}
